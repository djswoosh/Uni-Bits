{
  "nbformat": 4,
  "nbformat_minor": 0,
  "metadata": {
    "colab": {
      "name": "Apriori algorithm.ipynb",
      "provenance": [],
      "include_colab_link": true
    },
    "kernelspec": {
      "name": "python3",
      "display_name": "Python 3"
    }
  },
  "cells": [
    {
      "cell_type": "markdown",
      "metadata": {
        "id": "view-in-github",
        "colab_type": "text"
      },
      "source": [
        "<a href=\"https://colab.research.google.com/github/djswoosh/Uni-Bits/blob/main/Apriori_algorithm.ipynb\" target=\"_parent\"><img src=\"https://colab.research.google.com/assets/colab-badge.svg\" alt=\"Open In Colab\"/></a>"
      ]
    },
    {
      "cell_type": "code",
      "metadata": {
        "id": "tDMfaQRdqwqF"
      },
      "source": [
        "import pandas as pd\n",
        "import numpy as np\n",
        "from mlxtend.frequent_patterns import apriori, association_rules\n",
        "import matplotlib.pyplot as plt"
      ],
      "execution_count": null,
      "outputs": []
    },
    {
      "cell_type": "code",
      "metadata": {
        "id": "XxfokgEYzT-T"
      },
      "source": [
        "## Use this to read data directly from github\n",
        "df = pd.read_csv('https://gist.githubusercontent.com/Harsh-Git-Hub/2979ec48043928ad9033d8469928e751/raw/72de943e040b8bd0d087624b154d41b2ba9d9b60/retail_dataset.csv', sep=',')"
      ],
      "execution_count": 22,
      "outputs": []
    },
    {
      "cell_type": "code",
      "metadata": {
        "colab": {
          "base_uri": "https://localhost:8080/"
        },
        "id": "kJL3q7uzd_Y9",
        "outputId": "b8ae9f76-0cf9-4685-a95f-809b87cc4d58"
      },
      "source": [
        "items = (df['0'].unique())\r\n",
        "items"
      ],
      "execution_count": 23,
      "outputs": [
        {
          "output_type": "execute_result",
          "data": {
            "text/plain": [
              "array(['Bread', 'Cheese', 'Meat', 'Eggs', 'Wine', 'Bagel', 'Pencil',\n",
              "       'Diaper', 'Milk'], dtype=object)"
            ]
          },
          "metadata": {
            "tags": []
          },
          "execution_count": 23
        }
      ]
    },
    {
      "cell_type": "code",
      "metadata": {
        "id": "bPKqXCsOzrPG"
      },
      "source": [
        "\n",
        "#Data Preprocessing\n",
        "\n",
        "#OneHotEncoding\n",
        "\n",
        "itemset = set(items)\n",
        "encoded_vals = []\n",
        "for index, row in df.iterrows():\n",
        "    rowset = set(row) \n",
        "    labels = {}\n",
        "    uncommons = list(itemset - rowset)\n",
        "    commons = list(itemset.intersection(rowset))\n",
        "    for uc in uncommons:\n",
        "        labels[uc] = 0\n",
        "    for com in commons:\n",
        "        labels[com] = 1\n",
        "    encoded_vals.append(labels)\n",
        "encoded_vals[0]\n",
        "ohe_df = pd.DataFrame(encoded_vals)"
      ],
      "execution_count": 24,
      "outputs": []
    },
    {
      "cell_type": "code",
      "metadata": {
        "colab": {
          "base_uri": "https://localhost:8080/",
          "height": 266
        },
        "id": "YFQES6qz0nrA",
        "outputId": "48599da1-dff9-4625-ec02-924824cbaf5c"
      },
      "source": [
        "freq_items = apriori(ohe_df, min_support=0.2, use_colnames=True, n_jobs=1,)\n",
        "freq_items.head(7)"
      ],
      "execution_count": 27,
      "outputs": [
        {
          "output_type": "execute_result",
          "data": {
            "text/html": [
              "<div>\n",
              "<style scoped>\n",
              "    .dataframe tbody tr th:only-of-type {\n",
              "        vertical-align: middle;\n",
              "    }\n",
              "\n",
              "    .dataframe tbody tr th {\n",
              "        vertical-align: top;\n",
              "    }\n",
              "\n",
              "    .dataframe thead th {\n",
              "        text-align: right;\n",
              "    }\n",
              "</style>\n",
              "<table border=\"1\" class=\"dataframe\">\n",
              "  <thead>\n",
              "    <tr style=\"text-align: right;\">\n",
              "      <th></th>\n",
              "      <th>support</th>\n",
              "      <th>itemsets</th>\n",
              "    </tr>\n",
              "  </thead>\n",
              "  <tbody>\n",
              "    <tr>\n",
              "      <th>0</th>\n",
              "      <td>0.501587</td>\n",
              "      <td>(Milk)</td>\n",
              "    </tr>\n",
              "    <tr>\n",
              "      <th>1</th>\n",
              "      <td>0.425397</td>\n",
              "      <td>(Bagel)</td>\n",
              "    </tr>\n",
              "    <tr>\n",
              "      <th>2</th>\n",
              "      <td>0.438095</td>\n",
              "      <td>(Eggs)</td>\n",
              "    </tr>\n",
              "    <tr>\n",
              "      <th>3</th>\n",
              "      <td>0.406349</td>\n",
              "      <td>(Diaper)</td>\n",
              "    </tr>\n",
              "    <tr>\n",
              "      <th>4</th>\n",
              "      <td>0.504762</td>\n",
              "      <td>(Bread)</td>\n",
              "    </tr>\n",
              "    <tr>\n",
              "      <th>5</th>\n",
              "      <td>0.476190</td>\n",
              "      <td>(Meat)</td>\n",
              "    </tr>\n",
              "    <tr>\n",
              "      <th>6</th>\n",
              "      <td>0.501587</td>\n",
              "      <td>(Cheese)</td>\n",
              "    </tr>\n",
              "  </tbody>\n",
              "</table>\n",
              "</div>"
            ],
            "text/plain": [
              "    support  itemsets\n",
              "0  0.501587    (Milk)\n",
              "1  0.425397   (Bagel)\n",
              "2  0.438095    (Eggs)\n",
              "3  0.406349  (Diaper)\n",
              "4  0.504762   (Bread)\n",
              "5  0.476190    (Meat)\n",
              "6  0.501587  (Cheese)"
            ]
          },
          "metadata": {
            "tags": []
          },
          "execution_count": 27
        }
      ]
    },
    {
      "cell_type": "code",
      "metadata": {
        "colab": {
          "base_uri": "https://localhost:8080/",
          "height": 241
        },
        "id": "9EuCKewGiwyT",
        "outputId": "a0fd2551-792a-43e4-f698-3e6d5b2b95a9"
      },
      "source": [
        "rules = association_rules(freq_items, metric=\"confidence\", min_threshold=0.6)\n",
        "rules.head()"
      ],
      "execution_count": 28,
      "outputs": [
        {
          "output_type": "execute_result",
          "data": {
            "text/html": [
              "<div>\n",
              "<style scoped>\n",
              "    .dataframe tbody tr th:only-of-type {\n",
              "        vertical-align: middle;\n",
              "    }\n",
              "\n",
              "    .dataframe tbody tr th {\n",
              "        vertical-align: top;\n",
              "    }\n",
              "\n",
              "    .dataframe thead th {\n",
              "        text-align: right;\n",
              "    }\n",
              "</style>\n",
              "<table border=\"1\" class=\"dataframe\">\n",
              "  <thead>\n",
              "    <tr style=\"text-align: right;\">\n",
              "      <th></th>\n",
              "      <th>antecedents</th>\n",
              "      <th>consequents</th>\n",
              "      <th>antecedent support</th>\n",
              "      <th>consequent support</th>\n",
              "      <th>support</th>\n",
              "      <th>confidence</th>\n",
              "      <th>lift</th>\n",
              "      <th>leverage</th>\n",
              "      <th>conviction</th>\n",
              "    </tr>\n",
              "  </thead>\n",
              "  <tbody>\n",
              "    <tr>\n",
              "      <th>0</th>\n",
              "      <td>(Cheese)</td>\n",
              "      <td>(Milk)</td>\n",
              "      <td>0.501587</td>\n",
              "      <td>0.501587</td>\n",
              "      <td>0.304762</td>\n",
              "      <td>0.607595</td>\n",
              "      <td>1.211344</td>\n",
              "      <td>0.053172</td>\n",
              "      <td>1.270148</td>\n",
              "    </tr>\n",
              "    <tr>\n",
              "      <th>1</th>\n",
              "      <td>(Milk)</td>\n",
              "      <td>(Cheese)</td>\n",
              "      <td>0.501587</td>\n",
              "      <td>0.501587</td>\n",
              "      <td>0.304762</td>\n",
              "      <td>0.607595</td>\n",
              "      <td>1.211344</td>\n",
              "      <td>0.053172</td>\n",
              "      <td>1.270148</td>\n",
              "    </tr>\n",
              "    <tr>\n",
              "      <th>2</th>\n",
              "      <td>(Bagel)</td>\n",
              "      <td>(Bread)</td>\n",
              "      <td>0.425397</td>\n",
              "      <td>0.504762</td>\n",
              "      <td>0.279365</td>\n",
              "      <td>0.656716</td>\n",
              "      <td>1.301042</td>\n",
              "      <td>0.064641</td>\n",
              "      <td>1.442650</td>\n",
              "    </tr>\n",
              "    <tr>\n",
              "      <th>3</th>\n",
              "      <td>(Eggs)</td>\n",
              "      <td>(Meat)</td>\n",
              "      <td>0.438095</td>\n",
              "      <td>0.476190</td>\n",
              "      <td>0.266667</td>\n",
              "      <td>0.608696</td>\n",
              "      <td>1.278261</td>\n",
              "      <td>0.058050</td>\n",
              "      <td>1.338624</td>\n",
              "    </tr>\n",
              "    <tr>\n",
              "      <th>4</th>\n",
              "      <td>(Eggs)</td>\n",
              "      <td>(Cheese)</td>\n",
              "      <td>0.438095</td>\n",
              "      <td>0.501587</td>\n",
              "      <td>0.298413</td>\n",
              "      <td>0.681159</td>\n",
              "      <td>1.358008</td>\n",
              "      <td>0.078670</td>\n",
              "      <td>1.563203</td>\n",
              "    </tr>\n",
              "  </tbody>\n",
              "</table>\n",
              "</div>"
            ],
            "text/plain": [
              "  antecedents consequents  antecedent support  ...      lift  leverage  conviction\n",
              "0    (Cheese)      (Milk)            0.501587  ...  1.211344  0.053172    1.270148\n",
              "1      (Milk)    (Cheese)            0.501587  ...  1.211344  0.053172    1.270148\n",
              "2     (Bagel)     (Bread)            0.425397  ...  1.301042  0.064641    1.442650\n",
              "3      (Eggs)      (Meat)            0.438095  ...  1.278261  0.058050    1.338624\n",
              "4      (Eggs)    (Cheese)            0.438095  ...  1.358008  0.078670    1.563203\n",
              "\n",
              "[5 rows x 9 columns]"
            ]
          },
          "metadata": {
            "tags": []
          },
          "execution_count": 28
        }
      ]
    },
    {
      "cell_type": "code",
      "metadata": {
        "colab": {
          "base_uri": "https://localhost:8080/",
          "height": 295
        },
        "id": "UxrBdZdvjCi5",
        "outputId": "ac1bddf8-d802-46c7-9390-dd617d4d2cdb"
      },
      "source": [
        "#SupportVsConfidence\n",
        "\n",
        "plt.scatter(rules['support'], rules['confidence'], alpha=0.5)\n",
        "plt.xlabel('support')\n",
        "plt.ylabel('confidence')\n",
        "plt.title('Support vs Confidence')\n",
        "plt.show()"
      ],
      "execution_count": 37,
      "outputs": [
        {
          "output_type": "display_data",
          "data": {
            "image/png": "[encoded data removed]",
            "text/plain": [
              "<Figure size 432x288 with 1 Axes>"
            ]
          },
          "metadata": {
            "tags": [],
            "needs_background": "light"
          }
        }
      ]
    },
    {
      "cell_type": "code",
      "metadata": {
        "colab": {
          "base_uri": "https://localhost:8080/",
          "height": 295
        },
        "id": "Mjhmocu5jHrH",
        "outputId": "d66e43b0-79eb-48bb-ef4a-48b3e178a8cb"
      },
      "source": [
        "plt.scatter(rules['support'], rules['lift'], alpha=0.5)\n",
        "plt.xlabel('support')\n",
        "plt.ylabel('lift')\n",
        "plt.title('Support vs Lift')\n",
        "plt.show()"
      ],
      "execution_count": 38,
      "outputs": [
        {
          "output_type": "display_data",
          "data": {
            "image/png": "[encoded data removed]",
            "text/plain": [
              "<Figure size 432x288 with 1 Axes>"
            ]
          },
          "metadata": {
            "tags": [],
            "needs_background": "light"
          }
        }
      ]
    },
    {
      "cell_type": "code",
      "metadata": {
        "colab": {
          "base_uri": "https://localhost:8080/",
          "height": 299
        },
        "id": "x0JhcEkqjvIb",
        "outputId": "c225c834-cb0c-47a6-d8e4-d5da87d3329a"
      },
      "source": [
        "#liftvsConfidence\n",
        "\n",
        "fit = np.polyfit(rules['lift'], rules['confidence'], 1)\n",
        "fit_fn = np.poly1d(fit)\n",
        "plt.plot(rules['lift'], rules['confidence'], 'yo', rules['lift'], \n",
        " fit_fn(rules['lift']))"
      ],
      "execution_count": 39,
      "outputs": [
        {
          "output_type": "execute_result",
          "data": {
            "text/plain": [
              "[<matplotlib.lines.Line2D at 0x7f88b0176750>,\n",
              " <matplotlib.lines.Line2D at 0x7f88b01fced0>]"
            ]
          },
          "metadata": {
            "tags": []
          },
          "execution_count": 39
        },
        {
          "output_type": "display_data",
          "data": {
            "image/png": "[encoded data removed]",
            "text/plain": [
              "<Figure size 432x288 with 1 Axes>"
            ]
          },
          "metadata": {
            "tags": [],
            "needs_background": "light"
          }
        }
      ]
    }
  ]
}