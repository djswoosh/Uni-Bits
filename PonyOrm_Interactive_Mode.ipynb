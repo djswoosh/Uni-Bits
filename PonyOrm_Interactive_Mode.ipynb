{
  "nbformat": 4,
  "nbformat_minor": 0,
  "metadata": {
    "colab": {
      "name": "PonyOrm Interactive Mode.ipynb",
      "provenance": [],
      "authorship_tag": "ABX9TyMuCxD+gpGw7tm5y+HZ0jHQ",
      "include_colab_link": true
    },
    "kernelspec": {
      "name": "python3",
      "display_name": "Python 3"
    },
    "language_info": {
      "name": "python"
    }
  },
  "cells": [
    {
      "cell_type": "markdown",
      "metadata": {
        "id": "view-in-github",
        "colab_type": "text"
      },
      "source": [
        "<a href=\"https://colab.research.google.com/github/djswoosh/Uni-Bits/blob/main/PonyOrm_Interactive_Mode.ipynb\" target=\"_parent\"><img src=\"https://colab.research.google.com/assets/colab-badge.svg\" alt=\"Open In Colab\"/></a>"
      ]
    },
    {
      "cell_type": "code",
      "metadata": {
        "colab": {
          "base_uri": "https://localhost:8080/"
        },
        "id": "pTs3kXDpnlYC",
        "outputId": "a5d8b905-dc85-4d1a-b9d0-8c17fc9d0a30"
      },
      "source": [
        "!pip install pony"
      ],
      "execution_count": 1,
      "outputs": [
        {
          "output_type": "stream",
          "name": "stdout",
          "text": [
            "Collecting pony\n",
            "  Downloading pony-0.7.14.tar.gz (290 kB)\n",
            "\u001b[?25l\r\u001b[K     |█▏                              | 10 kB 21.3 MB/s eta 0:00:01\r\u001b[K     |██▎                             | 20 kB 11.6 MB/s eta 0:00:01\r\u001b[K     |███▍                            | 30 kB 8.7 MB/s eta 0:00:01\r\u001b[K     |████▌                           | 40 kB 7.9 MB/s eta 0:00:01\r\u001b[K     |█████▋                          | 51 kB 4.1 MB/s eta 0:00:01\r\u001b[K     |██████▊                         | 61 kB 4.6 MB/s eta 0:00:01\r\u001b[K     |████████                        | 71 kB 4.5 MB/s eta 0:00:01\r\u001b[K     |█████████                       | 81 kB 5.1 MB/s eta 0:00:01\r\u001b[K     |██████████▏                     | 92 kB 3.9 MB/s eta 0:00:01\r\u001b[K     |███████████▎                    | 102 kB 4.2 MB/s eta 0:00:01\r\u001b[K     |████████████▍                   | 112 kB 4.2 MB/s eta 0:00:01\r\u001b[K     |█████████████▌                  | 122 kB 4.2 MB/s eta 0:00:01\r\u001b[K     |██████████████▋                 | 133 kB 4.2 MB/s eta 0:00:01\r\u001b[K     |███████████████▉                | 143 kB 4.2 MB/s eta 0:00:01\r\u001b[K     |█████████████████               | 153 kB 4.2 MB/s eta 0:00:01\r\u001b[K     |██████████████████              | 163 kB 4.2 MB/s eta 0:00:01\r\u001b[K     |███████████████████▏            | 174 kB 4.2 MB/s eta 0:00:01\r\u001b[K     |████████████████████▎           | 184 kB 4.2 MB/s eta 0:00:01\r\u001b[K     |█████████████████████▍          | 194 kB 4.2 MB/s eta 0:00:01\r\u001b[K     |██████████████████████▌         | 204 kB 4.2 MB/s eta 0:00:01\r\u001b[K     |███████████████████████▊        | 215 kB 4.2 MB/s eta 0:00:01\r\u001b[K     |████████████████████████▉       | 225 kB 4.2 MB/s eta 0:00:01\r\u001b[K     |██████████████████████████      | 235 kB 4.2 MB/s eta 0:00:01\r\u001b[K     |███████████████████████████     | 245 kB 4.2 MB/s eta 0:00:01\r\u001b[K     |████████████████████████████▏   | 256 kB 4.2 MB/s eta 0:00:01\r\u001b[K     |█████████████████████████████▎  | 266 kB 4.2 MB/s eta 0:00:01\r\u001b[K     |██████████████████████████████▌ | 276 kB 4.2 MB/s eta 0:00:01\r\u001b[K     |███████████████████████████████▋| 286 kB 4.2 MB/s eta 0:00:01\r\u001b[K     |████████████████████████████████| 290 kB 4.2 MB/s \n",
            "\u001b[?25hBuilding wheels for collected packages: pony\n",
            "  Building wheel for pony (setup.py) ... \u001b[?25l\u001b[?25hdone\n",
            "  Created wheel for pony: filename=pony-0.7.14-py3-none-any.whl size=351293 sha256=14e9558701fb9b46f3f27e95a18515731b169d9586a9dceda354cafcdd2310fe\n",
            "  Stored in directory: /root/.cache/pip/wheels/de/7a/8b/82a3b5a0135fc6bad188f62e1bf6c4843142bc22c144879014\n",
            "Successfully built pony\n",
            "Installing collected packages: pony\n",
            "Successfully installed pony-0.7.14\n"
          ]
        }
      ]
    },
    {
      "cell_type": "code",
      "metadata": {
        "id": "8BoZd-cjn-t8"
      },
      "source": [
        "from pony.orm import *"
      ],
      "execution_count": 3,
      "outputs": []
    },
    {
      "cell_type": "code",
      "metadata": {
        "id": "_zVtj8b0oHWV"
      },
      "source": [
        "db = Database()"
      ],
      "execution_count": 4,
      "outputs": []
    },
    {
      "cell_type": "code",
      "metadata": {
        "id": "E-bFrJo2oRCC"
      },
      "source": [
        "class Person(db.Entity):\n",
        "  name = Required(str)\n",
        "  age = Required(int)\n",
        "  cars = Set ('Car')\n",
        "\n",
        "class Car(db.Entity):\n",
        "  make = Required(str)\n",
        "  model = Required(str)\n",
        "  owner = Required(Person)\n"
      ],
      "execution_count": 5,
      "outputs": []
    },
    {
      "cell_type": "code",
      "metadata": {
        "colab": {
          "base_uri": "https://localhost:8080/"
        },
        "id": "qQM1x3mNp0cx",
        "outputId": "0fc79202-a52a-4d75-821b-67326cc51f5c"
      },
      "source": [
        "show(Person)"
      ],
      "execution_count": 6,
      "outputs": [
        {
          "output_type": "stream",
          "name": "stdout",
          "text": [
            "class Person(Entity):\n",
            "    id = PrimaryKey(int, auto=True)\n",
            "    name = Required(str)\n",
            "    age = Required(int)\n",
            "    cars = Set(Car)\n"
          ]
        }
      ]
    },
    {
      "cell_type": "code",
      "metadata": {
        "colab": {
          "base_uri": "https://localhost:8080/"
        },
        "id": "iLbLqaQ1p5po",
        "outputId": "a3a2d58e-20b1-45d2-980e-803a283c9f2b"
      },
      "source": [
        "show(Car)"
      ],
      "execution_count": 7,
      "outputs": [
        {
          "output_type": "stream",
          "name": "stdout",
          "text": [
            "class Car(Entity):\n",
            "    id = PrimaryKey(int, auto=True)\n",
            "    make = Required(str)\n",
            "    model = Required(str)\n",
            "    owner = Required(Person)\n"
          ]
        }
      ]
    },
    {
      "cell_type": "code",
      "metadata": {
        "id": "KuGZa8XUtuhb"
      },
      "source": [
        "db.bind(provider='sqlite', filename =':memory:')"
      ],
      "execution_count": 8,
      "outputs": []
    },
    {
      "cell_type": "code",
      "metadata": {
        "colab": {
          "base_uri": "https://localhost:8080/",
          "height": 312
        },
        "id": "ZY0JT91FuBf2",
        "outputId": "e45109d5-78a3-4333-df20-a2192f4c7701"
      },
      "source": [
        "db.bind(provider ='sqlite', filename='database.sqlite', create_db=True)"
      ],
      "execution_count": 10,
      "outputs": [
        {
          "output_type": "error",
          "ename": "BindingError",
          "evalue": "ignored",
          "traceback": [
            "\u001b[0;31m---------------------------------------------------------------------------\u001b[0m",
            "\u001b[0;31mBindingError\u001b[0m                              Traceback (most recent call last)",
            "\u001b[0;32m<ipython-input-10-d9a68b55575b>\u001b[0m in \u001b[0;36m<module>\u001b[0;34m()\u001b[0m\n\u001b[0;32m----> 1\u001b[0;31m \u001b[0mdb\u001b[0m\u001b[0;34m.\u001b[0m\u001b[0mbind\u001b[0m\u001b[0;34m(\u001b[0m\u001b[0mprovider\u001b[0m \u001b[0;34m=\u001b[0m\u001b[0;34m'sqlite'\u001b[0m\u001b[0;34m,\u001b[0m \u001b[0mfilename\u001b[0m\u001b[0;34m=\u001b[0m\u001b[0;34m'database.sqlite'\u001b[0m\u001b[0;34m,\u001b[0m \u001b[0mcreate_db\u001b[0m\u001b[0;34m=\u001b[0m\u001b[0;32mTrue\u001b[0m\u001b[0;34m)\u001b[0m\u001b[0;34m\u001b[0m\u001b[0;34m\u001b[0m\u001b[0m\n\u001b[0m",
            "\u001b[0;32m/usr/local/lib/python3.7/dist-packages/pony/orm/core.py\u001b[0m in \u001b[0;36mbind\u001b[0;34m(self, *args, **kwargs)\u001b[0m\n",
            "\u001b[0;32m/usr/local/lib/python3.7/dist-packages/pony/utils/utils.py\u001b[0m in \u001b[0;36mcut_traceback\u001b[0;34m(func, *args, **kwargs)\u001b[0m\n\u001b[1;32m     75\u001b[0m             \u001b[0mmodule_name\u001b[0m \u001b[0;34m=\u001b[0m \u001b[0mtb\u001b[0m\u001b[0;34m.\u001b[0m\u001b[0mtb_frame\u001b[0m\u001b[0;34m.\u001b[0m\u001b[0mf_globals\u001b[0m\u001b[0;34m.\u001b[0m\u001b[0mget\u001b[0m\u001b[0;34m(\u001b[0m\u001b[0;34m'__name__'\u001b[0m\u001b[0;34m)\u001b[0m \u001b[0;32mor\u001b[0m \u001b[0;34m''\u001b[0m\u001b[0;34m\u001b[0m\u001b[0;34m\u001b[0m\u001b[0m\n\u001b[1;32m     76\u001b[0m             \u001b[0;32mif\u001b[0m \u001b[0mmodule_name\u001b[0m\u001b[0;34m.\u001b[0m\u001b[0mstartswith\u001b[0m\u001b[0;34m(\u001b[0m\u001b[0;34m'pony.utils'\u001b[0m\u001b[0;34m)\u001b[0m \u001b[0;32mand\u001b[0m \u001b[0mtb\u001b[0m\u001b[0;34m.\u001b[0m\u001b[0mtb_frame\u001b[0m\u001b[0;34m.\u001b[0m\u001b[0mf_code\u001b[0m\u001b[0;34m.\u001b[0m\u001b[0mco_name\u001b[0m \u001b[0;34m==\u001b[0m \u001b[0;34m'throw'\u001b[0m\u001b[0;34m:\u001b[0m\u001b[0;34m\u001b[0m\u001b[0;34m\u001b[0m\u001b[0m\n\u001b[0;32m---> 77\u001b[0;31m                 \u001b[0mreraise\u001b[0m\u001b[0;34m(\u001b[0m\u001b[0mexc_type\u001b[0m\u001b[0;34m,\u001b[0m \u001b[0mexc\u001b[0m\u001b[0;34m,\u001b[0m \u001b[0mlast_pony_tb\u001b[0m\u001b[0;34m)\u001b[0m\u001b[0;34m\u001b[0m\u001b[0;34m\u001b[0m\u001b[0m\n\u001b[0m\u001b[1;32m     78\u001b[0m             \u001b[0mreraise\u001b[0m\u001b[0;34m(\u001b[0m\u001b[0mexc_type\u001b[0m\u001b[0;34m,\u001b[0m \u001b[0mexc\u001b[0m\u001b[0;34m,\u001b[0m \u001b[0mfull_tb\u001b[0m\u001b[0;34m)\u001b[0m\u001b[0;34m\u001b[0m\u001b[0;34m\u001b[0m\u001b[0m\n\u001b[1;32m     79\u001b[0m         \u001b[0;32mfinally\u001b[0m\u001b[0;34m:\u001b[0m\u001b[0;34m\u001b[0m\u001b[0;34m\u001b[0m\u001b[0m\n",
            "\u001b[0;32m/usr/local/lib/python3.7/dist-packages/pony/utils/utils.py\u001b[0m in \u001b[0;36mreraise\u001b[0;34m(***failed resolving arguments***)\u001b[0m\n\u001b[1;32m     93\u001b[0m \u001b[0;32melse\u001b[0m\u001b[0;34m:\u001b[0m\u001b[0;34m\u001b[0m\u001b[0;34m\u001b[0m\u001b[0m\n\u001b[1;32m     94\u001b[0m     \u001b[0;32mdef\u001b[0m \u001b[0mreraise\u001b[0m\u001b[0;34m(\u001b[0m\u001b[0mexc_type\u001b[0m\u001b[0;34m,\u001b[0m \u001b[0mexc\u001b[0m\u001b[0;34m,\u001b[0m \u001b[0mtb\u001b[0m\u001b[0;34m)\u001b[0m\u001b[0;34m:\u001b[0m\u001b[0;34m\u001b[0m\u001b[0;34m\u001b[0m\u001b[0m\n\u001b[0;32m---> 95\u001b[0;31m         \u001b[0;32mtry\u001b[0m\u001b[0;34m:\u001b[0m \u001b[0;32mraise\u001b[0m \u001b[0mexc\u001b[0m\u001b[0;34m.\u001b[0m\u001b[0mwith_traceback\u001b[0m\u001b[0;34m(\u001b[0m\u001b[0mtb\u001b[0m\u001b[0;34m)\u001b[0m\u001b[0;34m\u001b[0m\u001b[0;34m\u001b[0m\u001b[0m\n\u001b[0m\u001b[1;32m     96\u001b[0m         \u001b[0;32mfinally\u001b[0m\u001b[0;34m:\u001b[0m \u001b[0;32mdel\u001b[0m \u001b[0mexc\u001b[0m\u001b[0;34m,\u001b[0m \u001b[0mtb\u001b[0m\u001b[0;34m\u001b[0m\u001b[0;34m\u001b[0m\u001b[0m\n\u001b[1;32m     97\u001b[0m \u001b[0;34m\u001b[0m\u001b[0m\n",
            "\u001b[0;32m/usr/local/lib/python3.7/dist-packages/pony/orm/core.py\u001b[0m in \u001b[0;36m_bind\u001b[0;34m(self, *args, **kwargs)\u001b[0m\n\u001b[1;32m    776\u001b[0m         \u001b[0;31m# argument 'self' cannot be named 'database', because 'database' can be in kwargs\u001b[0m\u001b[0;34m\u001b[0m\u001b[0;34m\u001b[0m\u001b[0;34m\u001b[0m\u001b[0m\n\u001b[1;32m    777\u001b[0m         \u001b[0;32mif\u001b[0m \u001b[0mself\u001b[0m\u001b[0;34m.\u001b[0m\u001b[0mprovider\u001b[0m \u001b[0;32mis\u001b[0m \u001b[0;32mnot\u001b[0m \u001b[0;32mNone\u001b[0m\u001b[0;34m:\u001b[0m\u001b[0;34m\u001b[0m\u001b[0;34m\u001b[0m\u001b[0m\n\u001b[0;32m--> 778\u001b[0;31m             \u001b[0mthrow\u001b[0m\u001b[0;34m(\u001b[0m\u001b[0mBindingError\u001b[0m\u001b[0;34m,\u001b[0m \u001b[0;34m'Database object was already bound to %s provider'\u001b[0m \u001b[0;34m%\u001b[0m \u001b[0mself\u001b[0m\u001b[0;34m.\u001b[0m\u001b[0mprovider\u001b[0m\u001b[0;34m.\u001b[0m\u001b[0mdialect\u001b[0m\u001b[0;34m)\u001b[0m\u001b[0;34m\u001b[0m\u001b[0;34m\u001b[0m\u001b[0m\n\u001b[0m\u001b[1;32m    779\u001b[0m         \u001b[0;32mif\u001b[0m \u001b[0mlen\u001b[0m\u001b[0;34m(\u001b[0m\u001b[0margs\u001b[0m\u001b[0;34m)\u001b[0m \u001b[0;34m==\u001b[0m \u001b[0;36m1\u001b[0m \u001b[0;32mand\u001b[0m \u001b[0;32mnot\u001b[0m \u001b[0mkwargs\u001b[0m \u001b[0;32mand\u001b[0m \u001b[0mhasattr\u001b[0m\u001b[0;34m(\u001b[0m\u001b[0margs\u001b[0m\u001b[0;34m[\u001b[0m\u001b[0;36m0\u001b[0m\u001b[0;34m]\u001b[0m\u001b[0;34m,\u001b[0m \u001b[0;34m'keys'\u001b[0m\u001b[0;34m)\u001b[0m\u001b[0;34m:\u001b[0m\u001b[0;34m\u001b[0m\u001b[0;34m\u001b[0m\u001b[0m\n\u001b[1;32m    780\u001b[0m             \u001b[0margs\u001b[0m\u001b[0;34m,\u001b[0m \u001b[0mkwargs\u001b[0m \u001b[0;34m=\u001b[0m \u001b[0;34m(\u001b[0m\u001b[0;34m)\u001b[0m\u001b[0;34m,\u001b[0m \u001b[0margs\u001b[0m\u001b[0;34m[\u001b[0m\u001b[0;36m0\u001b[0m\u001b[0;34m]\u001b[0m\u001b[0;34m\u001b[0m\u001b[0;34m\u001b[0m\u001b[0m\n",
            "\u001b[0;32m/usr/local/lib/python3.7/dist-packages/pony/utils/utils.py\u001b[0m in \u001b[0;36mthrow\u001b[0;34m(exc_type, *args, **kwargs)\u001b[0m\n\u001b[1;32m    106\u001b[0m             \u001b[0;32mraise\u001b[0m \u001b[0mexc\u001b[0m\u001b[0;34m\u001b[0m\u001b[0;34m\u001b[0m\u001b[0m\n\u001b[1;32m    107\u001b[0m         \u001b[0;32melse\u001b[0m\u001b[0;34m:\u001b[0m\u001b[0;34m\u001b[0m\u001b[0;34m\u001b[0m\u001b[0m\n\u001b[0;32m--> 108\u001b[0;31m             \u001b[0;32mraise\u001b[0m \u001b[0mexc\u001b[0m  \u001b[0;31m# Set \"pony.options.CUT_TRACEBACK = False\" to see full traceback\u001b[0m\u001b[0;34m\u001b[0m\u001b[0;34m\u001b[0m\u001b[0m\n\u001b[0m\u001b[1;32m    109\u001b[0m     \u001b[0;32mfinally\u001b[0m\u001b[0;34m:\u001b[0m \u001b[0;32mdel\u001b[0m \u001b[0mexc\u001b[0m\u001b[0;34m\u001b[0m\u001b[0;34m\u001b[0m\u001b[0m\n\u001b[1;32m    110\u001b[0m \u001b[0;34m\u001b[0m\u001b[0m\n",
            "\u001b[0;31mBindingError\u001b[0m: Database object was already bound to SQLite provider"
          ]
        }
      ]
    },
    {
      "cell_type": "code",
      "metadata": {
        "colab": {
          "base_uri": "https://localhost:8080/",
          "height": 312
        },
        "id": "oRKG-j5kvA_u",
        "outputId": "efb7b11f-e7a9-4849-cc45-5a90213b9fa3"
      },
      "source": [
        "db.generate_mapping(create_tables = True)"
      ],
      "execution_count": 14,
      "outputs": [
        {
          "output_type": "error",
          "ename": "BindingError",
          "evalue": "ignored",
          "traceback": [
            "\u001b[0;31m---------------------------------------------------------------------------\u001b[0m",
            "\u001b[0;31mBindingError\u001b[0m                              Traceback (most recent call last)",
            "\u001b[0;32m<ipython-input-14-45361c68050d>\u001b[0m in \u001b[0;36m<module>\u001b[0;34m()\u001b[0m\n\u001b[0;32m----> 1\u001b[0;31m \u001b[0mdb\u001b[0m\u001b[0;34m.\u001b[0m\u001b[0mgenerate_mapping\u001b[0m\u001b[0;34m(\u001b[0m\u001b[0mcreate_tables\u001b[0m \u001b[0;34m=\u001b[0m \u001b[0;32mTrue\u001b[0m\u001b[0;34m)\u001b[0m\u001b[0;34m\u001b[0m\u001b[0;34m\u001b[0m\u001b[0m\n\u001b[0m",
            "\u001b[0;32m/usr/local/lib/python3.7/dist-packages/pony/orm/core.py\u001b[0m in \u001b[0;36mgenerate_mapping\u001b[0;34m(database, filename, check_tables, create_tables)\u001b[0m\n",
            "\u001b[0;32m/usr/local/lib/python3.7/dist-packages/pony/utils/utils.py\u001b[0m in \u001b[0;36mcut_traceback\u001b[0;34m(func, *args, **kwargs)\u001b[0m\n\u001b[1;32m     75\u001b[0m             \u001b[0mmodule_name\u001b[0m \u001b[0;34m=\u001b[0m \u001b[0mtb\u001b[0m\u001b[0;34m.\u001b[0m\u001b[0mtb_frame\u001b[0m\u001b[0;34m.\u001b[0m\u001b[0mf_globals\u001b[0m\u001b[0;34m.\u001b[0m\u001b[0mget\u001b[0m\u001b[0;34m(\u001b[0m\u001b[0;34m'__name__'\u001b[0m\u001b[0;34m)\u001b[0m \u001b[0;32mor\u001b[0m \u001b[0;34m''\u001b[0m\u001b[0;34m\u001b[0m\u001b[0;34m\u001b[0m\u001b[0m\n\u001b[1;32m     76\u001b[0m             \u001b[0;32mif\u001b[0m \u001b[0mmodule_name\u001b[0m\u001b[0;34m.\u001b[0m\u001b[0mstartswith\u001b[0m\u001b[0;34m(\u001b[0m\u001b[0;34m'pony.utils'\u001b[0m\u001b[0;34m)\u001b[0m \u001b[0;32mand\u001b[0m \u001b[0mtb\u001b[0m\u001b[0;34m.\u001b[0m\u001b[0mtb_frame\u001b[0m\u001b[0;34m.\u001b[0m\u001b[0mf_code\u001b[0m\u001b[0;34m.\u001b[0m\u001b[0mco_name\u001b[0m \u001b[0;34m==\u001b[0m \u001b[0;34m'throw'\u001b[0m\u001b[0;34m:\u001b[0m\u001b[0;34m\u001b[0m\u001b[0;34m\u001b[0m\u001b[0m\n\u001b[0;32m---> 77\u001b[0;31m                 \u001b[0mreraise\u001b[0m\u001b[0;34m(\u001b[0m\u001b[0mexc_type\u001b[0m\u001b[0;34m,\u001b[0m \u001b[0mexc\u001b[0m\u001b[0;34m,\u001b[0m \u001b[0mlast_pony_tb\u001b[0m\u001b[0;34m)\u001b[0m\u001b[0;34m\u001b[0m\u001b[0;34m\u001b[0m\u001b[0m\n\u001b[0m\u001b[1;32m     78\u001b[0m             \u001b[0mreraise\u001b[0m\u001b[0;34m(\u001b[0m\u001b[0mexc_type\u001b[0m\u001b[0;34m,\u001b[0m \u001b[0mexc\u001b[0m\u001b[0;34m,\u001b[0m \u001b[0mfull_tb\u001b[0m\u001b[0;34m)\u001b[0m\u001b[0;34m\u001b[0m\u001b[0;34m\u001b[0m\u001b[0m\n\u001b[1;32m     79\u001b[0m         \u001b[0;32mfinally\u001b[0m\u001b[0;34m:\u001b[0m\u001b[0;34m\u001b[0m\u001b[0;34m\u001b[0m\u001b[0m\n",
            "\u001b[0;32m/usr/local/lib/python3.7/dist-packages/pony/utils/utils.py\u001b[0m in \u001b[0;36mreraise\u001b[0;34m(***failed resolving arguments***)\u001b[0m\n\u001b[1;32m     93\u001b[0m \u001b[0;32melse\u001b[0m\u001b[0;34m:\u001b[0m\u001b[0;34m\u001b[0m\u001b[0;34m\u001b[0m\u001b[0m\n\u001b[1;32m     94\u001b[0m     \u001b[0;32mdef\u001b[0m \u001b[0mreraise\u001b[0m\u001b[0;34m(\u001b[0m\u001b[0mexc_type\u001b[0m\u001b[0;34m,\u001b[0m \u001b[0mexc\u001b[0m\u001b[0;34m,\u001b[0m \u001b[0mtb\u001b[0m\u001b[0;34m)\u001b[0m\u001b[0;34m:\u001b[0m\u001b[0;34m\u001b[0m\u001b[0;34m\u001b[0m\u001b[0m\n\u001b[0;32m---> 95\u001b[0;31m         \u001b[0;32mtry\u001b[0m\u001b[0;34m:\u001b[0m \u001b[0;32mraise\u001b[0m \u001b[0mexc\u001b[0m\u001b[0;34m.\u001b[0m\u001b[0mwith_traceback\u001b[0m\u001b[0;34m(\u001b[0m\u001b[0mtb\u001b[0m\u001b[0;34m)\u001b[0m\u001b[0;34m\u001b[0m\u001b[0;34m\u001b[0m\u001b[0m\n\u001b[0m\u001b[1;32m     96\u001b[0m         \u001b[0;32mfinally\u001b[0m\u001b[0;34m:\u001b[0m \u001b[0;32mdel\u001b[0m \u001b[0mexc\u001b[0m\u001b[0;34m,\u001b[0m \u001b[0mtb\u001b[0m\u001b[0;34m\u001b[0m\u001b[0;34m\u001b[0m\u001b[0m\n\u001b[1;32m     97\u001b[0m \u001b[0;34m\u001b[0m\u001b[0m\n",
            "\u001b[0;32m/usr/local/lib/python3.7/dist-packages/pony/orm/core.py\u001b[0m in \u001b[0;36mgenerate_mapping\u001b[0;34m(database, filename, check_tables, create_tables)\u001b[0m\n\u001b[1;32m    967\u001b[0m         \u001b[0mprovider\u001b[0m \u001b[0;34m=\u001b[0m \u001b[0mdatabase\u001b[0m\u001b[0;34m.\u001b[0m\u001b[0mprovider\u001b[0m\u001b[0;34m\u001b[0m\u001b[0;34m\u001b[0m\u001b[0m\n\u001b[1;32m    968\u001b[0m         \u001b[0;32mif\u001b[0m \u001b[0mprovider\u001b[0m \u001b[0;32mis\u001b[0m \u001b[0;32mNone\u001b[0m\u001b[0;34m:\u001b[0m \u001b[0mthrow\u001b[0m\u001b[0;34m(\u001b[0m\u001b[0mMappingError\u001b[0m\u001b[0;34m,\u001b[0m \u001b[0;34m'Database object is not bound with a provider yet'\u001b[0m\u001b[0;34m)\u001b[0m\u001b[0;34m\u001b[0m\u001b[0;34m\u001b[0m\u001b[0m\n\u001b[0;32m--> 969\u001b[0;31m         \u001b[0;32mif\u001b[0m \u001b[0mdatabase\u001b[0m\u001b[0;34m.\u001b[0m\u001b[0mschema\u001b[0m\u001b[0;34m:\u001b[0m \u001b[0mthrow\u001b[0m\u001b[0;34m(\u001b[0m\u001b[0mBindingError\u001b[0m\u001b[0;34m,\u001b[0m \u001b[0;34m'Mapping was already generated'\u001b[0m\u001b[0;34m)\u001b[0m\u001b[0;34m\u001b[0m\u001b[0;34m\u001b[0m\u001b[0m\n\u001b[0m\u001b[1;32m    970\u001b[0m         \u001b[0;32mif\u001b[0m \u001b[0mfilename\u001b[0m \u001b[0;32mis\u001b[0m \u001b[0;32mnot\u001b[0m \u001b[0;32mNone\u001b[0m\u001b[0;34m:\u001b[0m \u001b[0mthrow\u001b[0m\u001b[0;34m(\u001b[0m\u001b[0mNotImplementedError\u001b[0m\u001b[0;34m)\u001b[0m\u001b[0;34m\u001b[0m\u001b[0;34m\u001b[0m\u001b[0m\n\u001b[1;32m    971\u001b[0m         \u001b[0mschema\u001b[0m \u001b[0;34m=\u001b[0m \u001b[0mdatabase\u001b[0m\u001b[0;34m.\u001b[0m\u001b[0mschema\u001b[0m \u001b[0;34m=\u001b[0m \u001b[0mprovider\u001b[0m\u001b[0;34m.\u001b[0m\u001b[0mdbschema_cls\u001b[0m\u001b[0;34m(\u001b[0m\u001b[0mprovider\u001b[0m\u001b[0;34m)\u001b[0m\u001b[0;34m\u001b[0m\u001b[0;34m\u001b[0m\u001b[0m\n",
            "\u001b[0;32m/usr/local/lib/python3.7/dist-packages/pony/utils/utils.py\u001b[0m in \u001b[0;36mthrow\u001b[0;34m(exc_type, *args, **kwargs)\u001b[0m\n\u001b[1;32m    106\u001b[0m             \u001b[0;32mraise\u001b[0m \u001b[0mexc\u001b[0m\u001b[0;34m\u001b[0m\u001b[0;34m\u001b[0m\u001b[0m\n\u001b[1;32m    107\u001b[0m         \u001b[0;32melse\u001b[0m\u001b[0;34m:\u001b[0m\u001b[0;34m\u001b[0m\u001b[0;34m\u001b[0m\u001b[0m\n\u001b[0;32m--> 108\u001b[0;31m             \u001b[0;32mraise\u001b[0m \u001b[0mexc\u001b[0m  \u001b[0;31m# Set \"pony.options.CUT_TRACEBACK = False\" to see full traceback\u001b[0m\u001b[0;34m\u001b[0m\u001b[0;34m\u001b[0m\u001b[0m\n\u001b[0m\u001b[1;32m    109\u001b[0m     \u001b[0;32mfinally\u001b[0m\u001b[0;34m:\u001b[0m \u001b[0;32mdel\u001b[0m \u001b[0mexc\u001b[0m\u001b[0;34m\u001b[0m\u001b[0;34m\u001b[0m\u001b[0m\n\u001b[1;32m    110\u001b[0m \u001b[0;34m\u001b[0m\u001b[0m\n",
            "\u001b[0;31mBindingError\u001b[0m: Mapping was already generated"
          ]
        }
      ]
    },
    {
      "cell_type": "code",
      "metadata": {
        "id": "-lXZjOa4wBDB"
      },
      "source": [
        "set_sql_debug(True) #To See the SQL commans that Pony sends to the database"
      ],
      "execution_count": 13,
      "outputs": []
    },
    {
      "cell_type": "code",
      "metadata": {
        "colab": {
          "base_uri": "https://localhost:8080/"
        },
        "id": "eDna16oIwYXx",
        "outputId": "8f347a7f-2d07-499c-e692-faab00c87a35"
      },
      "source": [
        "p1 = Person(name = 'John', age = 20)\n",
        "p2 = Person(name = 'Mary', age = 22)\n",
        "p3 = Person(name = 'Bob', age = 30)\n",
        "c1 = Car(make = 'Toyota', model = 'Prius', owner = p2)\n",
        "c2 = Car(make = 'Ford', model = 'Explorer', owner = p3)\n",
        "commit() #This will send five insert commands to the database."
      ],
      "execution_count": 15,
      "outputs": [
        {
          "output_type": "stream",
          "name": "stdout",
          "text": [
            "GET CONNECTION FROM THE LOCAL POOL\n",
            "BEGIN IMMEDIATE TRANSACTION\n",
            "INSERT INTO \"Person\" (\"name\", \"age\") VALUES (?, ?)\n",
            "['John', 20]\n",
            "\n",
            "INSERT INTO \"Person\" (\"name\", \"age\") VALUES (?, ?)\n",
            "['Mary', 22]\n",
            "\n",
            "INSERT INTO \"Person\" (\"name\", \"age\") VALUES (?, ?)\n",
            "['Bob', 30]\n",
            "\n",
            "INSERT INTO \"Car\" (\"make\", \"model\", \"owner\") VALUES (?, ?, ?)\n",
            "['Toyota', 'Prius', 2]\n",
            "\n",
            "INSERT INTO \"Car\" (\"make\", \"model\", \"owner\") VALUES (?, ?, ?)\n",
            "['Ford', 'Explorer', 3]\n",
            "\n",
            "COMMIT\n"
          ]
        }
      ]
    },
    {
      "cell_type": "code",
      "metadata": {
        "id": "1qnqfayg_wMU"
      },
      "source": [
        "@db_session\n",
        "def print_person_name(person_id):\n",
        "  p = Person[person_id]\n",
        "  print (p.name)"
      ],
      "execution_count": 17,
      "outputs": []
    },
    {
      "cell_type": "code",
      "metadata": {
        "id": "YpyhkR77AFxE"
      },
      "source": [
        "@db_session\n",
        "def add_car(person_id, make, model):\n",
        "  Car(make=make, model=model, owner=Person[person_id])\n",
        "  #commit() will be done automatically"
      ],
      "execution_count": 18,
      "outputs": []
    },
    {
      "cell_type": "code",
      "metadata": {
        "colab": {
          "base_uri": "https://localhost:8080/"
        },
        "id": "Q0rxCjrcDbPo",
        "outputId": "5f796290-cb40-4fc6-e92f-2f7318151e95"
      },
      "source": [
        "with db_session:\n",
        "  p = Person(name='Kate', age=33)\n",
        "  Car(make='Audi', model='R8', owner=p)\n",
        "  #commit() will be done automatically\n",
        "  #database session cache will be cleared automatically\n",
        "  #database connection will be returned to the pool"
      ],
      "execution_count": 19,
      "outputs": [
        {
          "output_type": "stream",
          "name": "stdout",
          "text": [
            "BEGIN IMMEDIATE TRANSACTION\n",
            "INSERT INTO \"Person\" (\"name\", \"age\") VALUES (?, ?)\n",
            "['Kate', 33]\n",
            "\n",
            "INSERT INTO \"Car\" (\"make\", \"model\", \"owner\") VALUES (?, ?, ?)\n",
            "['Audi', 'R8', 4]\n",
            "\n",
            "COMMIT\n",
            "RELEASE CONNECTION\n"
          ]
        }
      ]
    },
    {
      "cell_type": "code",
      "metadata": {
        "colab": {
          "base_uri": "https://localhost:8080/"
        },
        "id": "ssi9WrGWEiq0",
        "outputId": "d59700b5-8e75-4171-f772-d59e2ef674b8"
      },
      "source": [
        "select(p for p in Person if p.age > 20)"
      ],
      "execution_count": 20,
      "outputs": [
        {
          "output_type": "execute_result",
          "data": {
            "text/plain": [
              "<pony.orm.core.Query at 0x7f038ab1a510>"
            ]
          },
          "metadata": {},
          "execution_count": 20
        }
      ]
    },
    {
      "cell_type": "code",
      "metadata": {
        "colab": {
          "base_uri": "https://localhost:8080/"
        },
        "id": "YvMqxBITE1E0",
        "outputId": "fe51bfe4-55fa-47eb-bb1b-5fd86800a6c4"
      },
      "source": [
        "select(p for p in Person if p.age >20)[:]"
      ],
      "execution_count": 21,
      "outputs": [
        {
          "output_type": "stream",
          "name": "stdout",
          "text": [
            "GET CONNECTION FROM THE LOCAL POOL\n",
            "SWITCH TO AUTOCOMMIT MODE\n",
            "SELECT \"p\".\"id\", \"p\".\"name\", \"p\".\"age\"\n",
            "FROM \"Person\" \"p\"\n",
            "WHERE \"p\".\"age\" > 20\n",
            "\n"
          ]
        },
        {
          "output_type": "execute_result",
          "data": {
            "text/plain": [
              "[Person[2], Person[3], Person[4]]"
            ]
          },
          "metadata": {},
          "execution_count": 21
        }
      ]
    },
    {
      "cell_type": "code",
      "metadata": {
        "colab": {
          "base_uri": "https://localhost:8080/"
        },
        "id": "QmfJAImJDcMP",
        "outputId": "e331f69e-2488-4674-acd0-92d6815ddeb8"
      },
      "source": [
        "select(p for p in Person).order_by(Person.name)[:2]"
      ],
      "execution_count": 22,
      "outputs": [
        {
          "output_type": "stream",
          "name": "stdout",
          "text": [
            "SELECT \"p\".\"id\", \"p\".\"name\", \"p\".\"age\"\n",
            "FROM \"Person\" \"p\"\n",
            "ORDER BY \"p\".\"name\"\n",
            "LIMIT 2\n",
            "\n"
          ]
        },
        {
          "output_type": "execute_result",
          "data": {
            "text/plain": [
              "[Person[3], Person[1]]"
            ]
          },
          "metadata": {},
          "execution_count": 22
        }
      ]
    },
    {
      "cell_type": "code",
      "metadata": {
        "colab": {
          "base_uri": "https://localhost:8080/"
        },
        "id": "2PBQ73e1IZDq",
        "outputId": "7f7d6941-dd80-4c9a-9c2d-b1bee2be65da"
      },
      "source": [
        "select(p for p in Person).order_by(Person.name)[:2].show()"
      ],
      "execution_count": 23,
      "outputs": [
        {
          "output_type": "stream",
          "name": "stdout",
          "text": [
            "SELECT \"p\".\"id\", \"p\".\"name\", \"p\".\"age\"\n",
            "FROM \"Person\" \"p\"\n",
            "ORDER BY \"p\".\"name\"\n",
            "LIMIT 2\n",
            "\n",
            "id|name|age\n",
            "--+----+---\n",
            "3 |Bob |30 \n",
            "1 |John|20 \n"
          ]
        }
      ]
    },
    {
      "cell_type": "code",
      "metadata": {
        "colab": {
          "base_uri": "https://localhost:8080/"
        },
        "id": "KZszKAnzI8yi",
        "outputId": "62fe18bc-4cf7-4d4a-cd50-57d02bcb4f42"
      },
      "source": [
        "Car.select().show()"
      ],
      "execution_count": 24,
      "outputs": [
        {
          "output_type": "stream",
          "name": "stdout",
          "text": [
            "SELECT \"c\".\"id\", \"c\".\"make\", \"c\".\"model\", \"c\".\"owner\"\n",
            "FROM \"Car\" \"c\"\n",
            "\n",
            "id|make  |model   |owner    \n",
            "--+------+--------+---------\n",
            "1 |Toyota|Prius   |Person[2]\n",
            "2 |Ford  |Explorer|Person[3]\n",
            "3 |Audi  |R8      |Person[4]\n"
          ]
        }
      ]
    },
    {
      "cell_type": "code",
      "metadata": {
        "colab": {
          "base_uri": "https://localhost:8080/"
        },
        "id": "555SDHrsJBYm",
        "outputId": "df7d7350-5b29-4093-e0fe-bbfe37ebb06b"
      },
      "source": [
        "persons = select(p for p in Person if 'o' in p.name)\n",
        "for p in persons:\n",
        "  print(p.name, p.age)"
      ],
      "execution_count": 26,
      "outputs": [
        {
          "output_type": "stream",
          "name": "stdout",
          "text": [
            "SELECT \"p\".\"id\", \"p\".\"name\", \"p\".\"age\"\n",
            "FROM \"Person\" \"p\"\n",
            "WHERE \"p\".\"name\" LIKE '%o%'\n",
            "\n",
            "John 20\n",
            "Bob 30\n"
          ]
        }
      ]
    },
    {
      "cell_type": "code",
      "metadata": {
        "colab": {
          "base_uri": "https://localhost:8080/"
        },
        "id": "o_UeZfa4JcfI",
        "outputId": "a50a56d8-7cf5-4167-f14d-0162e007764e"
      },
      "source": [
        "select(p.name for p in Person if p.age != 30)[:]"
      ],
      "execution_count": 27,
      "outputs": [
        {
          "output_type": "stream",
          "name": "stdout",
          "text": [
            "SELECT DISTINCT \"p\".\"name\"\n",
            "FROM \"Person\" \"p\"\n",
            "WHERE \"p\".\"age\" <> 30\n",
            "\n"
          ]
        },
        {
          "output_type": "execute_result",
          "data": {
            "text/plain": [
              "['John', 'Mary', 'Kate']"
            ]
          },
          "metadata": {},
          "execution_count": 27
        }
      ]
    },
    {
      "cell_type": "code",
      "metadata": {
        "colab": {
          "base_uri": "https://localhost:8080/"
        },
        "id": "jC2Gq5rSJ4Hq",
        "outputId": "baefd7d3-1c24-4710-ae56-b667dd5a571e"
      },
      "source": [
        "select((p, count(p.cars)) for p in Person)[:]"
      ],
      "execution_count": 28,
      "outputs": [
        {
          "output_type": "stream",
          "name": "stdout",
          "text": [
            "SELECT \"p\".\"id\", COUNT(DISTINCT \"car\".\"id\")\n",
            "FROM \"Person\" \"p\"\n",
            "  LEFT JOIN \"Car\" \"car\"\n",
            "    ON \"p\".\"id\" = \"car\".\"owner\"\n",
            "GROUP BY \"p\".\"id\"\n",
            "\n"
          ]
        },
        {
          "output_type": "execute_result",
          "data": {
            "text/plain": [
              "[(Person[1], 0), (Person[2], 1), (Person[3], 1), (Person[4], 1)]"
            ]
          },
          "metadata": {},
          "execution_count": 28
        }
      ]
    },
    {
      "cell_type": "code",
      "metadata": {
        "colab": {
          "base_uri": "https://localhost:8080/"
        },
        "id": "COU8a-yIKHfr",
        "outputId": "c78f199a-172e-47ef-cba7-21530cfb59d8"
      },
      "source": [
        "print(max(p.age for p in Person))"
      ],
      "execution_count": 29,
      "outputs": [
        {
          "output_type": "stream",
          "name": "stdout",
          "text": [
            "SELECT MAX(\"p\".\"age\")\n",
            "FROM \"Person\" \"p\"\n",
            "\n",
            "33\n"
          ]
        }
      ]
    },
    {
      "cell_type": "code",
      "metadata": {
        "colab": {
          "base_uri": "https://localhost:8080/"
        },
        "id": "4bccUJEqK5O7",
        "outputId": "fefa2c8f-80db-434d-8be0-a0ea1ef59b6d"
      },
      "source": [
        "p1= Person[1]\n",
        "print(p1.name)"
      ],
      "execution_count": 31,
      "outputs": [
        {
          "output_type": "stream",
          "name": "stdout",
          "text": [
            "John\n"
          ]
        }
      ]
    },
    {
      "cell_type": "code",
      "metadata": {
        "colab": {
          "base_uri": "https://localhost:8080/"
        },
        "id": "rrBrFQT4LJk7",
        "outputId": "90669a74-76b2-4c46-8e6a-1d3b40a9be54"
      },
      "source": [
        "mary = Person.get(name = 'Mary')\n",
        "\n",
        "print(mary.age)"
      ],
      "execution_count": 32,
      "outputs": [
        {
          "output_type": "stream",
          "name": "stdout",
          "text": [
            "SELECT \"id\", \"name\", \"age\"\n",
            "FROM \"Person\"\n",
            "WHERE \"name\" = ?\n",
            "LIMIT 2\n",
            "['Mary']\n",
            "\n",
            "22\n"
          ]
        }
      ]
    },
    {
      "cell_type": "code",
      "metadata": {
        "colab": {
          "base_uri": "https://localhost:8080/"
        },
        "id": "4-4SZdCxUnYC",
        "outputId": "1594749b-cd53-415c-8613-0817131ab112"
      },
      "source": [
        "mary.age += 1\n",
        "commit()"
      ],
      "execution_count": 33,
      "outputs": [
        {
          "output_type": "stream",
          "name": "stdout",
          "text": [
            "BEGIN IMMEDIATE TRANSACTION\n",
            "UPDATE \"Person\"\n",
            "SET \"age\" = ?\n",
            "WHERE \"id\" = ?\n",
            "  AND \"name\" = ?\n",
            "  AND \"age\" = ?\n",
            "[23, 2, 'Mary', 22]\n",
            "\n",
            "COMMIT\n"
          ]
        }
      ]
    },
    {
      "cell_type": "code",
      "metadata": {
        "colab": {
          "base_uri": "https://localhost:8080/"
        },
        "id": "vLP1OqO_VdFk",
        "outputId": "247cc02d-c4d3-47c4-e521-b5291547b41a"
      },
      "source": [
        "x = 25\n",
        "Person.select_by_sql('SELECT * FROM Person p WHERE p.age < $x')"
      ],
      "execution_count": 34,
      "outputs": [
        {
          "output_type": "stream",
          "name": "stdout",
          "text": [
            "BEGIN IMMEDIATE TRANSACTION\n",
            "SELECT * FROM Person p WHERE p.age < ?\n",
            "[25]\n",
            "\n"
          ]
        },
        {
          "output_type": "execute_result",
          "data": {
            "text/plain": [
              "[Person[1], Person[2]]"
            ]
          },
          "metadata": {},
          "execution_count": 34
        }
      ]
    },
    {
      "cell_type": "code",
      "metadata": {
        "colab": {
          "base_uri": "https://localhost:8080/"
        },
        "id": "zkRKCjbKV0eO",
        "outputId": "4ff810df-92e7-4efd-ecec-c75f72931483"
      },
      "source": [
        "#DB SELECT ALLOWS TO WORK WITH THE DATABASE DIRECTLY AVOIDING ENTITITES\n",
        "\n",
        "x= 20\n",
        "db.select('name FROM Person WHERE age > $x')"
      ],
      "execution_count": 35,
      "outputs": [
        {
          "output_type": "stream",
          "name": "stdout",
          "text": [
            "select name FROM Person WHERE age > ?\n",
            "[20]\n",
            "\n"
          ]
        },
        {
          "output_type": "execute_result",
          "data": {
            "text/plain": [
              "['Mary', 'Bob', 'Kate']"
            ]
          },
          "metadata": {},
          "execution_count": 35
        }
      ]
    },
    {
      "cell_type": "code",
      "metadata": {
        "colab": {
          "base_uri": "https://localhost:8080/"
        },
        "id": "UO-rYwm0XFSu",
        "outputId": "6fd80086-a378-4c89-9519-44bd508e6c68"
      },
      "source": [
        "from pony.orm.examples.estore import *"
      ],
      "execution_count": 37,
      "outputs": [
        {
          "output_type": "stream",
          "name": "stdout",
          "text": [
            "GET NEW CONNECTION\n",
            "RELEASE CONNECTION\n",
            "GET CONNECTION FROM THE LOCAL POOL\n",
            "PRAGMA foreign_keys = false\n",
            "BEGIN IMMEDIATE TRANSACTION\n",
            "CREATE TABLE \"Category\" (\n",
            "  \"id\" INTEGER PRIMARY KEY AUTOINCREMENT,\n",
            "  \"name\" TEXT UNIQUE NOT NULL\n",
            ")\n",
            "\n",
            "CREATE TABLE \"Customer\" (\n",
            "  \"id\" INTEGER PRIMARY KEY AUTOINCREMENT,\n",
            "  \"email\" TEXT UNIQUE NOT NULL,\n",
            "  \"password\" TEXT NOT NULL,\n",
            "  \"name\" TEXT NOT NULL,\n",
            "  \"country\" TEXT NOT NULL,\n",
            "  \"address\" TEXT NOT NULL\n",
            ")\n",
            "\n",
            "CREATE TABLE \"Order\" (\n",
            "  \"id\" INTEGER PRIMARY KEY AUTOINCREMENT,\n",
            "  \"state\" TEXT NOT NULL,\n",
            "  \"date_created\" DATETIME NOT NULL,\n",
            "  \"date_shipped\" DATETIME,\n",
            "  \"date_delivered\" DATETIME,\n",
            "  \"total_price\" DECIMAL(12, 2) NOT NULL,\n",
            "  \"customer\" INTEGER NOT NULL REFERENCES \"Customer\" (\"id\") ON DELETE CASCADE\n",
            ")\n",
            "\n",
            "CREATE INDEX \"idx_order__customer\" ON \"Order\" (\"customer\")\n",
            "\n",
            "CREATE TABLE \"Product\" (\n",
            "  \"id\" INTEGER PRIMARY KEY AUTOINCREMENT,\n",
            "  \"name\" TEXT NOT NULL,\n",
            "  \"description\" TEXT NOT NULL,\n",
            "  \"picture\" BLOB,\n",
            "  \"price\" DECIMAL(12, 2) NOT NULL,\n",
            "  \"quantity\" INTEGER NOT NULL\n",
            ")\n",
            "\n",
            "CREATE TABLE \"CartItem\" (\n",
            "  \"id\" INTEGER PRIMARY KEY AUTOINCREMENT,\n",
            "  \"quantity\" INTEGER NOT NULL,\n",
            "  \"customer\" INTEGER NOT NULL REFERENCES \"Customer\" (\"id\") ON DELETE CASCADE,\n",
            "  \"product\" INTEGER NOT NULL REFERENCES \"Product\" (\"id\") ON DELETE CASCADE\n",
            ")\n",
            "\n",
            "CREATE INDEX \"idx_cartitem__customer\" ON \"CartItem\" (\"customer\")\n",
            "\n",
            "CREATE INDEX \"idx_cartitem__product\" ON \"CartItem\" (\"product\")\n",
            "\n",
            "CREATE TABLE \"Category_Product\" (\n",
            "  \"category\" INTEGER NOT NULL REFERENCES \"Category\" (\"id\") ON DELETE CASCADE,\n",
            "  \"product\" INTEGER NOT NULL REFERENCES \"Product\" (\"id\") ON DELETE CASCADE,\n",
            "  PRIMARY KEY (\"category\", \"product\")\n",
            ")\n",
            "\n",
            "CREATE INDEX \"idx_category_product\" ON \"Category_Product\" (\"product\")\n",
            "\n",
            "CREATE TABLE \"OrderItem\" (\n",
            "  \"quantity\" INTEGER NOT NULL,\n",
            "  \"price\" DECIMAL(12, 2) NOT NULL,\n",
            "  \"order\" INTEGER NOT NULL REFERENCES \"Order\" (\"id\") ON DELETE CASCADE,\n",
            "  \"product\" INTEGER NOT NULL REFERENCES \"Product\" (\"id\") ON DELETE CASCADE,\n",
            "  PRIMARY KEY (\"order\", \"product\")\n",
            ")\n",
            "\n",
            "CREATE INDEX \"idx_orderitem__product\" ON \"OrderItem\" (\"product\")\n",
            "\n",
            "SELECT \"CartItem\".\"id\", \"CartItem\".\"quantity\", \"CartItem\".\"customer\", \"CartItem\".\"product\"\n",
            "FROM \"CartItem\" \"CartItem\"\n",
            "WHERE 0 = 1\n",
            "\n",
            "SELECT \"Category\".\"id\", \"Category\".\"name\"\n",
            "FROM \"Category\" \"Category\"\n",
            "WHERE 0 = 1\n",
            "\n",
            "SELECT \"Category_Product\".\"category\", \"Category_Product\".\"product\"\n",
            "FROM \"Category_Product\" \"Category_Product\"\n",
            "WHERE 0 = 1\n",
            "\n",
            "SELECT \"Customer\".\"id\", \"Customer\".\"email\", \"Customer\".\"password\", \"Customer\".\"name\", \"Customer\".\"country\", \"Customer\".\"address\"\n",
            "FROM \"Customer\" \"Customer\"\n",
            "WHERE 0 = 1\n",
            "\n",
            "SELECT \"Order\".\"id\", \"Order\".\"state\", \"Order\".\"date_created\", \"Order\".\"date_shipped\", \"Order\".\"date_delivered\", \"Order\".\"total_price\", \"Order\".\"customer\"\n",
            "FROM \"Order\" \"Order\"\n",
            "WHERE 0 = 1\n",
            "\n",
            "SELECT \"OrderItem\".\"quantity\", \"OrderItem\".\"price\", \"OrderItem\".\"order\", \"OrderItem\".\"product\"\n",
            "FROM \"OrderItem\" \"OrderItem\"\n",
            "WHERE 0 = 1\n",
            "\n",
            "SELECT \"Product\".\"id\", \"Product\".\"name\", \"Product\".\"description\", \"Product\".\"picture\", \"Product\".\"price\", \"Product\".\"quantity\"\n",
            "FROM \"Product\" \"Product\"\n",
            "WHERE 0 = 1\n",
            "\n",
            "COMMIT\n",
            "COMMIT\n",
            "PRAGMA foreign_keys = true\n",
            "CLOSE CONNECTION\n",
            "RELEASE CONNECTION\n"
          ]
        }
      ]
    },
    {
      "cell_type": "code",
      "metadata": {
        "colab": {
          "base_uri": "https://localhost:8080/"
        },
        "id": "OH6qq_n6XSWA",
        "outputId": "86badb55-4311-4743-fc85-cf95213eeef7"
      },
      "source": [
        "populate_database()"
      ],
      "execution_count": 38,
      "outputs": [
        {
          "output_type": "stream",
          "name": "stdout",
          "text": [
            "GET NEW CONNECTION\n",
            "BEGIN IMMEDIATE TRANSACTION\n",
            "INSERT INTO \"Customer\" (\"email\", \"password\", \"name\", \"country\", \"address\") VALUES (?, ?, ?, ?, ?)\n",
            "['john@example.com', '***', 'John Smith', 'USA', 'address 1']\n",
            "\n",
            "INSERT INTO \"Customer\" (\"email\", \"password\", \"name\", \"country\", \"address\") VALUES (?, ?, ?, ?, ?)\n",
            "['matthew@example.com', '***', 'Matthew Reed', 'USA', 'address 2']\n",
            "\n",
            "INSERT INTO \"Customer\" (\"email\", \"password\", \"name\", \"country\", \"address\") VALUES (?, ?, ?, ?, ?)\n",
            "['chuanqin@example.com', '***', 'Chuan Qin', 'China', 'address 3']\n",
            "\n",
            "INSERT INTO \"Customer\" (\"email\", \"password\", \"name\", \"country\", \"address\") VALUES (?, ?, ?, ?, ?)\n",
            "['rebecca@example.com', '***', 'Rebecca Lawson', 'USA', 'address 4']\n",
            "\n",
            "INSERT INTO \"Customer\" (\"email\", \"password\", \"name\", \"country\", \"address\") VALUES (?, ?, ?, ?, ?)\n",
            "['oliver@example.com', '***', 'Oliver Blakey', 'UK', 'address 5']\n",
            "\n",
            "INSERT INTO \"Category\" (\"name\") VALUES (?)\n",
            "['Tablets']\n",
            "\n",
            "INSERT INTO \"Category\" (\"name\") VALUES (?)\n",
            "['USB Flash Drives']\n",
            "\n",
            "INSERT INTO \"Category\" (\"name\") VALUES (?)\n",
            "['Solid State Drives']\n",
            "\n",
            "INSERT INTO \"Category\" (\"name\") VALUES (?)\n",
            "['Data Storage']\n",
            "\n",
            "INSERT INTO \"Product\" (\"name\", \"description\", \"price\", \"quantity\") VALUES (?, ?, ?, ?)\n",
            "['Kindle Fire HD', 'Amazon tablet for web, movies, music, apps, games, reading and more', '284.00', 120]\n",
            "\n",
            "INSERT INTO \"Product\" (\"name\", \"description\", \"price\", \"quantity\") VALUES (?, ?, ?, ?)\n",
            "['Apple iPad with Retina Display MD513LL/A (16GB, Wi-Fi, White)', 'iPad with Retina display now features an A6X chip, FaceTime HD camera, and faster Wi-Fi', '478.50', 180]\n",
            "\n",
            "INSERT INTO \"Product\" (\"name\", \"description\", \"price\", \"quantity\") VALUES (?, ?, ?, ?)\n",
            "['SanDisk Cruzer 16 GB USB Flash Drive', 'Take it all with you on reliable SanDisk USB flash drive', '9.99', 400]\n",
            "\n",
            "INSERT INTO \"Product\" (\"name\", \"description\", \"price\", \"quantity\") VALUES (?, ?, ?, ?)\n",
            "['Kingston Digital DataTraveler SE9 16GB USB 2.0', 'Convenient - small, capless and pocket-sized for easy transportability', '9.98', 350]\n",
            "\n",
            "INSERT INTO \"Product\" (\"name\", \"description\", \"price\", \"quantity\") VALUES (?, ?, ?, ?)\n",
            "['Samsung 840 Series 2.5 inch 120GB SATA III SSD', 'Enables you to boot up your computer in as little as 15 seconds', '98.95', 0]\n",
            "\n",
            "INSERT INTO \"Product\" (\"name\", \"description\", \"price\", \"quantity\") VALUES (?, ?, ?, ?)\n",
            "['Crucial m4 256GB 2.5-Inch SSD SATA 6Gb/s CT256M4SSD2', 'The award-winning SSD delivers powerful performance gains for SATA 6Gb/s systems', '188.67', 60]\n",
            "\n",
            "INSERT INTO \"CartItem\" (\"quantity\", \"customer\", \"product\") VALUES (?, ?, ?)\n",
            "[1, 1, 1]\n",
            "\n",
            "INSERT INTO \"CartItem\" (\"quantity\", \"customer\", \"product\") VALUES (?, ?, ?)\n",
            "[1, 1, 2]\n",
            "\n",
            "INSERT INTO \"CartItem\" (\"quantity\", \"customer\", \"product\") VALUES (?, ?, ?)\n",
            "[2, 2, 5]\n",
            "\n",
            "INSERT INTO \"Order\" (\"state\", \"date_created\", \"date_shipped\", \"date_delivered\", \"total_price\", \"customer\") VALUES (?, ?, ?, ?, ?, ?)\n",
            "['DELIVERED', '2012-10-20 15:22:00.000000', '2012-10-21 11:34:00.000000', '2012-10-26 17:23:00.000000', '292.00', 1]\n",
            "\n",
            "INSERT INTO \"OrderItem\" (\"quantity\", \"price\", \"order\", \"product\") VALUES (?, ?, ?, ?)\n",
            "[1, '274.00', 1, 1]\n",
            "\n",
            "INSERT INTO \"OrderItem\" (\"quantity\", \"price\", \"order\", \"product\") VALUES (?, ?, ?, ?)\n",
            "[2, '9.98', 1, 4]\n",
            "\n",
            "INSERT INTO \"Order\" (\"state\", \"date_created\", \"date_shipped\", \"date_delivered\", \"total_price\", \"customer\") VALUES (?, ?, ?, ?, ?, ?)\n",
            "['DELIVERED', '2013-01-10 09:40:00.000000', '2013-01-10 14:03:00.000000', '2013-01-13 11:57:00.000000', '478.50', 1]\n",
            "\n",
            "INSERT INTO \"OrderItem\" (\"quantity\", \"price\", \"order\", \"product\") VALUES (?, ?, ?, ?)\n",
            "[1, '478.50', 2, 2]\n",
            "\n",
            "INSERT INTO \"Order\" (\"state\", \"date_created\", \"date_shipped\", \"date_delivered\", \"total_price\", \"customer\") VALUES (?, ?, ?, ?, ?, ?)\n",
            "['DELIVERED', '2012-11-03 12:10:00.000000', '2012-11-04 11:47:00.000000', '2012-11-07 18:55:00.000000', '680.50', 2]\n",
            "\n",
            "INSERT INTO \"OrderItem\" (\"quantity\", \"price\", \"order\", \"product\") VALUES (?, ?, ?, ?)\n",
            "[1, '478.50', 3, 2]\n",
            "\n",
            "INSERT INTO \"OrderItem\" (\"quantity\", \"price\", \"order\", \"product\") VALUES (?, ?, ?, ?)\n",
            "[2, '9.98', 3, 4]\n",
            "\n",
            "INSERT INTO \"OrderItem\" (\"quantity\", \"price\", \"order\", \"product\") VALUES (?, ?, ?, ?)\n",
            "[1, '199.00', 3, 6]\n",
            "\n",
            "INSERT INTO \"Order\" (\"state\", \"date_created\", \"date_shipped\", \"total_price\", \"customer\") VALUES (?, ?, ?, ?, ?)\n",
            "['SHIPPED', '2013-03-11 19:33:00.000000', '2013-03-12 09:40:00.000000', '99.80', 3]\n",
            "\n",
            "INSERT INTO \"OrderItem\" (\"quantity\", \"price\", \"order\", \"product\") VALUES (?, ?, ?, ?)\n",
            "[10, '9.98', 4, 4]\n",
            "\n",
            "INSERT INTO \"Order\" (\"state\", \"date_created\", \"total_price\", \"customer\") VALUES (?, ?, ?, ?)\n",
            "['CREATED', '2013-03-15 23:15:00.000000', '722.00', 4]\n",
            "\n",
            "INSERT INTO \"OrderItem\" (\"quantity\", \"price\", \"order\", \"product\") VALUES (?, ?, ?, ?)\n",
            "[1, '284.00', 5, 1]\n",
            "\n",
            "INSERT INTO \"OrderItem\" (\"quantity\", \"price\", \"order\", \"product\") VALUES (?, ?, ?, ?)\n",
            "[1, '478.50', 5, 2]\n",
            "\n",
            "EXECUTEMANY (10)\n",
            "INSERT INTO \"Category_Product\" (\"category\", \"product\") VALUES (?, ?)\n",
            "[3, 5]\n",
            "[4, 6]\n",
            "[2, 4]\n",
            "[4, 3]\n",
            "[1, 2]\n",
            "[1, 1]\n",
            "[4, 4]\n",
            "[3, 6]\n",
            "[2, 3]\n",
            "[4, 5]\n",
            "\n",
            "COMMIT\n",
            "RELEASE CONNECTION\n"
          ]
        }
      ]
    },
    {
      "cell_type": "code",
      "metadata": {
        "colab": {
          "base_uri": "https://localhost:8080/"
        },
        "id": "ZTatFgjpX0UI",
        "outputId": "a519fdba-0458-4319-a95f-c8ca8d0c45a3"
      },
      "source": [
        "select((customer.country, count(customer))\n",
        "  for customer in Customer). order_by(2).first()"
      ],
      "execution_count": 39,
      "outputs": [
        {
          "output_type": "stream",
          "name": "stdout",
          "text": [
            "GET CONNECTION FROM THE LOCAL POOL\n",
            "SWITCH TO AUTOCOMMIT MODE\n",
            "SELECT \"customer\".\"country\", COUNT(DISTINCT \"customer\".\"id\")\n",
            "FROM \"Customer\" \"customer\"\n",
            "GROUP BY \"customer\".\"country\"\n",
            "ORDER BY 2\n",
            "LIMIT 1\n",
            "\n"
          ]
        },
        {
          "output_type": "execute_result",
          "data": {
            "text/plain": [
              "('China', 1)"
            ]
          },
          "metadata": {},
          "execution_count": 39
        }
      ]
    }
  ]
}