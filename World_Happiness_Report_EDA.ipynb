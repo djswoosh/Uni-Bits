{
  "nbformat": 4,
  "nbformat_minor": 0,
  "metadata": {
    "colab": {
      "name": "World Happiness Report EDA.ipynb",
      "provenance": [],
      "mount_file_id": "15E8XEM7tX-PctR_-LTyBx6QBMKMeWpFC",
      "authorship_tag": "ABX9TyPbUx39EKPlEMgmwKzIP5nJ",
      "include_colab_link": true
    },
    "kernelspec": {
      "name": "python3",
      "display_name": "Python 3"
    },
    "language_info": {
      "name": "python"
    }
  },
  "cells": [
    {
      "cell_type": "markdown",
      "metadata": {
        "id": "view-in-github",
        "colab_type": "text"
      },
      "source": [
        "<a href=\"https://colab.research.google.com/github/djswoosh/Uni-Bits/blob/main/World_Happiness_Report_EDA.ipynb\" target=\"_parent\"><img src=\"https://colab.research.google.com/assets/colab-badge.svg\" alt=\"Open In Colab\"/></a>"
      ]
    },
    {
      "cell_type": "code",
      "metadata": {
        "id": "qc5SY-KQ2n5j"
      },
      "source": [
        "import numpy as np\n",
        "import pandas as pd\n",
        "import matplotlib.pyplot as plt\n",
        "import seaborn as sns"
      ],
      "execution_count": 1,
      "outputs": []
    },
    {
      "cell_type": "code",
      "metadata": {
        "id": "G6nYl99PtN_4"
      },
      "source": [
        "#Importing the datasets\n",
        "\n",
        "#loading the datasets y1,y2,y3,y4,y5,y6 corresponding to 2015,2016,2017,2018,2019,2020\n",
        "y1_df=pd.read_csv('/content/drive/MyDrive/DATA SCIENCE/Datasets/World Happiness Report /2015.csv')\n",
        "y2_df=pd.read_csv('/content/drive/MyDrive/DATA SCIENCE/Datasets/World Happiness Report /2016.csv')\n",
        "y3_df=pd.read_csv('/content/drive/MyDrive/DATA SCIENCE/Datasets/World Happiness Report /2017.csv')\n",
        "y4_df=pd.read_csv('/content/drive/MyDrive/DATA SCIENCE/Datasets/World Happiness Report /2018.csv')\n",
        "y5_df=pd.read_csv('/content/drive/MyDrive/DATA SCIENCE/Datasets/World Happiness Report /2019.csv')\n",
        "y6_df=pd.read_csv('/content/drive/MyDrive/DATA SCIENCE/Datasets/World Happiness Report /2020.csv')\n",
        "\n"
      ],
      "execution_count": 20,
      "outputs": []
    },
    {
      "cell_type": "markdown",
      "metadata": {
        "id": "vjY3PlYL1Zyi"
      },
      "source": [
        "EDA ON Y2 / 2016"
      ]
    },
    {
      "cell_type": "code",
      "metadata": {
        "colab": {
          "base_uri": "https://localhost:8080/"
        },
        "id": "63YoQSnltjOP",
        "outputId": "52fc821e-d744-461b-9479-053c637f329b"
      },
      "source": [
        "y2_df.info()"
      ],
      "execution_count": 21,
      "outputs": [
        {
          "output_type": "stream",
          "text": [
            "<class 'pandas.core.frame.DataFrame'>\n",
            "RangeIndex: 157 entries, 0 to 156\n",
            "Data columns (total 13 columns):\n",
            " #   Column                         Non-Null Count  Dtype  \n",
            "---  ------                         --------------  -----  \n",
            " 0   Country                        157 non-null    object \n",
            " 1   Region                         157 non-null    object \n",
            " 2   Happiness Rank                 157 non-null    int64  \n",
            " 3   Happiness Score                157 non-null    float64\n",
            " 4   Lower Confidence Interval      157 non-null    float64\n",
            " 5   Upper Confidence Interval      157 non-null    float64\n",
            " 6   Economy (GDP per Capita)       157 non-null    float64\n",
            " 7   Family                         157 non-null    float64\n",
            " 8   Health (Life Expectancy)       157 non-null    float64\n",
            " 9   Freedom                        157 non-null    float64\n",
            " 10  Trust (Government Corruption)  157 non-null    float64\n",
            " 11  Generosity                     157 non-null    float64\n",
            " 12  Dystopia Residual              157 non-null    float64\n",
            "dtypes: float64(10), int64(1), object(2)\n",
            "memory usage: 16.1+ KB\n"
          ],
          "name": "stdout"
        }
      ]
    },
    {
      "cell_type": "code",
      "metadata": {
        "colab": {
          "base_uri": "https://localhost:8080/",
          "height": 351
        },
        "id": "CO9SJ4Iu4neh",
        "outputId": "b87149f2-c6b1-4f8d-9be1-ad7a838dcec6"
      },
      "source": [
        "y2_df.describe()"
      ],
      "execution_count": 22,
      "outputs": [
        {
          "output_type": "execute_result",
          "data": {
            "text/html": [
              "<div>\n",
              "<style scoped>\n",
              "    .dataframe tbody tr th:only-of-type {\n",
              "        vertical-align: middle;\n",
              "    }\n",
              "\n",
              "    .dataframe tbody tr th {\n",
              "        vertical-align: top;\n",
              "    }\n",
              "\n",
              "    .dataframe thead th {\n",
              "        text-align: right;\n",
              "    }\n",
              "</style>\n",
              "<table border=\"1\" class=\"dataframe\">\n",
              "  <thead>\n",
              "    <tr style=\"text-align: right;\">\n",
              "      <th></th>\n",
              "      <th>Happiness Rank</th>\n",
              "      <th>Happiness Score</th>\n",
              "      <th>Lower Confidence Interval</th>\n",
              "      <th>Upper Confidence Interval</th>\n",
              "      <th>Economy (GDP per Capita)</th>\n",
              "      <th>Family</th>\n",
              "      <th>Health (Life Expectancy)</th>\n",
              "      <th>Freedom</th>\n",
              "      <th>Trust (Government Corruption)</th>\n",
              "      <th>Generosity</th>\n",
              "      <th>Dystopia Residual</th>\n",
              "    </tr>\n",
              "  </thead>\n",
              "  <tbody>\n",
              "    <tr>\n",
              "      <th>count</th>\n",
              "      <td>157.000000</td>\n",
              "      <td>157.000000</td>\n",
              "      <td>157.000000</td>\n",
              "      <td>157.000000</td>\n",
              "      <td>157.000000</td>\n",
              "      <td>157.000000</td>\n",
              "      <td>157.000000</td>\n",
              "      <td>157.000000</td>\n",
              "      <td>157.000000</td>\n",
              "      <td>157.000000</td>\n",
              "      <td>157.000000</td>\n",
              "    </tr>\n",
              "    <tr>\n",
              "      <th>mean</th>\n",
              "      <td>78.980892</td>\n",
              "      <td>5.382185</td>\n",
              "      <td>5.282395</td>\n",
              "      <td>5.481975</td>\n",
              "      <td>0.953880</td>\n",
              "      <td>0.793621</td>\n",
              "      <td>0.557619</td>\n",
              "      <td>0.370994</td>\n",
              "      <td>0.137624</td>\n",
              "      <td>0.242635</td>\n",
              "      <td>2.325807</td>\n",
              "    </tr>\n",
              "    <tr>\n",
              "      <th>std</th>\n",
              "      <td>45.466030</td>\n",
              "      <td>1.141674</td>\n",
              "      <td>1.148043</td>\n",
              "      <td>1.136493</td>\n",
              "      <td>0.412595</td>\n",
              "      <td>0.266706</td>\n",
              "      <td>0.229349</td>\n",
              "      <td>0.145507</td>\n",
              "      <td>0.111038</td>\n",
              "      <td>0.133756</td>\n",
              "      <td>0.542220</td>\n",
              "    </tr>\n",
              "    <tr>\n",
              "      <th>min</th>\n",
              "      <td>1.000000</td>\n",
              "      <td>2.905000</td>\n",
              "      <td>2.732000</td>\n",
              "      <td>3.078000</td>\n",
              "      <td>0.000000</td>\n",
              "      <td>0.000000</td>\n",
              "      <td>0.000000</td>\n",
              "      <td>0.000000</td>\n",
              "      <td>0.000000</td>\n",
              "      <td>0.000000</td>\n",
              "      <td>0.817890</td>\n",
              "    </tr>\n",
              "    <tr>\n",
              "      <th>25%</th>\n",
              "      <td>40.000000</td>\n",
              "      <td>4.404000</td>\n",
              "      <td>4.327000</td>\n",
              "      <td>4.465000</td>\n",
              "      <td>0.670240</td>\n",
              "      <td>0.641840</td>\n",
              "      <td>0.382910</td>\n",
              "      <td>0.257480</td>\n",
              "      <td>0.061260</td>\n",
              "      <td>0.154570</td>\n",
              "      <td>2.031710</td>\n",
              "    </tr>\n",
              "    <tr>\n",
              "      <th>50%</th>\n",
              "      <td>79.000000</td>\n",
              "      <td>5.314000</td>\n",
              "      <td>5.237000</td>\n",
              "      <td>5.419000</td>\n",
              "      <td>1.027800</td>\n",
              "      <td>0.841420</td>\n",
              "      <td>0.596590</td>\n",
              "      <td>0.397470</td>\n",
              "      <td>0.105470</td>\n",
              "      <td>0.222450</td>\n",
              "      <td>2.290740</td>\n",
              "    </tr>\n",
              "    <tr>\n",
              "      <th>75%</th>\n",
              "      <td>118.000000</td>\n",
              "      <td>6.269000</td>\n",
              "      <td>6.154000</td>\n",
              "      <td>6.434000</td>\n",
              "      <td>1.279640</td>\n",
              "      <td>1.021520</td>\n",
              "      <td>0.729930</td>\n",
              "      <td>0.484530</td>\n",
              "      <td>0.175540</td>\n",
              "      <td>0.311850</td>\n",
              "      <td>2.664650</td>\n",
              "    </tr>\n",
              "    <tr>\n",
              "      <th>max</th>\n",
              "      <td>157.000000</td>\n",
              "      <td>7.526000</td>\n",
              "      <td>7.460000</td>\n",
              "      <td>7.669000</td>\n",
              "      <td>1.824270</td>\n",
              "      <td>1.183260</td>\n",
              "      <td>0.952770</td>\n",
              "      <td>0.608480</td>\n",
              "      <td>0.505210</td>\n",
              "      <td>0.819710</td>\n",
              "      <td>3.837720</td>\n",
              "    </tr>\n",
              "  </tbody>\n",
              "</table>\n",
              "</div>"
            ],
            "text/plain": [
              "       Happiness Rank  Happiness Score  ...  Generosity  Dystopia Residual\n",
              "count      157.000000       157.000000  ...  157.000000         157.000000\n",
              "mean        78.980892         5.382185  ...    0.242635           2.325807\n",
              "std         45.466030         1.141674  ...    0.133756           0.542220\n",
              "min          1.000000         2.905000  ...    0.000000           0.817890\n",
              "25%         40.000000         4.404000  ...    0.154570           2.031710\n",
              "50%         79.000000         5.314000  ...    0.222450           2.290740\n",
              "75%        118.000000         6.269000  ...    0.311850           2.664650\n",
              "max        157.000000         7.526000  ...    0.819710           3.837720\n",
              "\n",
              "[8 rows x 11 columns]"
            ]
          },
          "metadata": {
            "tags": []
          },
          "execution_count": 22
        }
      ]
    },
    {
      "cell_type": "code",
      "metadata": {
        "colab": {
          "base_uri": "https://localhost:8080/",
          "height": 360
        },
        "id": "381Badtj4uL9",
        "outputId": "5ab2e0d8-ecdd-48ff-e289-de2b1484d23a"
      },
      "source": [
        "y2_df.head()"
      ],
      "execution_count": 23,
      "outputs": [
        {
          "output_type": "execute_result",
          "data": {
            "text/html": [
              "<div>\n",
              "<style scoped>\n",
              "    .dataframe tbody tr th:only-of-type {\n",
              "        vertical-align: middle;\n",
              "    }\n",
              "\n",
              "    .dataframe tbody tr th {\n",
              "        vertical-align: top;\n",
              "    }\n",
              "\n",
              "    .dataframe thead th {\n",
              "        text-align: right;\n",
              "    }\n",
              "</style>\n",
              "<table border=\"1\" class=\"dataframe\">\n",
              "  <thead>\n",
              "    <tr style=\"text-align: right;\">\n",
              "      <th></th>\n",
              "      <th>Country</th>\n",
              "      <th>Region</th>\n",
              "      <th>Happiness Rank</th>\n",
              "      <th>Happiness Score</th>\n",
              "      <th>Lower Confidence Interval</th>\n",
              "      <th>Upper Confidence Interval</th>\n",
              "      <th>Economy (GDP per Capita)</th>\n",
              "      <th>Family</th>\n",
              "      <th>Health (Life Expectancy)</th>\n",
              "      <th>Freedom</th>\n",
              "      <th>Trust (Government Corruption)</th>\n",
              "      <th>Generosity</th>\n",
              "      <th>Dystopia Residual</th>\n",
              "    </tr>\n",
              "  </thead>\n",
              "  <tbody>\n",
              "    <tr>\n",
              "      <th>0</th>\n",
              "      <td>Denmark</td>\n",
              "      <td>Western Europe</td>\n",
              "      <td>1</td>\n",
              "      <td>7.526</td>\n",
              "      <td>7.460</td>\n",
              "      <td>7.592</td>\n",
              "      <td>1.44178</td>\n",
              "      <td>1.16374</td>\n",
              "      <td>0.79504</td>\n",
              "      <td>0.57941</td>\n",
              "      <td>0.44453</td>\n",
              "      <td>0.36171</td>\n",
              "      <td>2.73939</td>\n",
              "    </tr>\n",
              "    <tr>\n",
              "      <th>1</th>\n",
              "      <td>Switzerland</td>\n",
              "      <td>Western Europe</td>\n",
              "      <td>2</td>\n",
              "      <td>7.509</td>\n",
              "      <td>7.428</td>\n",
              "      <td>7.590</td>\n",
              "      <td>1.52733</td>\n",
              "      <td>1.14524</td>\n",
              "      <td>0.86303</td>\n",
              "      <td>0.58557</td>\n",
              "      <td>0.41203</td>\n",
              "      <td>0.28083</td>\n",
              "      <td>2.69463</td>\n",
              "    </tr>\n",
              "    <tr>\n",
              "      <th>2</th>\n",
              "      <td>Iceland</td>\n",
              "      <td>Western Europe</td>\n",
              "      <td>3</td>\n",
              "      <td>7.501</td>\n",
              "      <td>7.333</td>\n",
              "      <td>7.669</td>\n",
              "      <td>1.42666</td>\n",
              "      <td>1.18326</td>\n",
              "      <td>0.86733</td>\n",
              "      <td>0.56624</td>\n",
              "      <td>0.14975</td>\n",
              "      <td>0.47678</td>\n",
              "      <td>2.83137</td>\n",
              "    </tr>\n",
              "    <tr>\n",
              "      <th>3</th>\n",
              "      <td>Norway</td>\n",
              "      <td>Western Europe</td>\n",
              "      <td>4</td>\n",
              "      <td>7.498</td>\n",
              "      <td>7.421</td>\n",
              "      <td>7.575</td>\n",
              "      <td>1.57744</td>\n",
              "      <td>1.12690</td>\n",
              "      <td>0.79579</td>\n",
              "      <td>0.59609</td>\n",
              "      <td>0.35776</td>\n",
              "      <td>0.37895</td>\n",
              "      <td>2.66465</td>\n",
              "    </tr>\n",
              "    <tr>\n",
              "      <th>4</th>\n",
              "      <td>Finland</td>\n",
              "      <td>Western Europe</td>\n",
              "      <td>5</td>\n",
              "      <td>7.413</td>\n",
              "      <td>7.351</td>\n",
              "      <td>7.475</td>\n",
              "      <td>1.40598</td>\n",
              "      <td>1.13464</td>\n",
              "      <td>0.81091</td>\n",
              "      <td>0.57104</td>\n",
              "      <td>0.41004</td>\n",
              "      <td>0.25492</td>\n",
              "      <td>2.82596</td>\n",
              "    </tr>\n",
              "  </tbody>\n",
              "</table>\n",
              "</div>"
            ],
            "text/plain": [
              "       Country          Region  ...  Generosity  Dystopia Residual\n",
              "0      Denmark  Western Europe  ...     0.36171            2.73939\n",
              "1  Switzerland  Western Europe  ...     0.28083            2.69463\n",
              "2      Iceland  Western Europe  ...     0.47678            2.83137\n",
              "3       Norway  Western Europe  ...     0.37895            2.66465\n",
              "4      Finland  Western Europe  ...     0.25492            2.82596\n",
              "\n",
              "[5 rows x 13 columns]"
            ]
          },
          "metadata": {
            "tags": []
          },
          "execution_count": 23
        }
      ]
    },
    {
      "cell_type": "code",
      "metadata": {
        "colab": {
          "base_uri": "https://localhost:8080/",
          "height": 168
        },
        "id": "cBrEHAbH41AC",
        "outputId": "82953df3-fc4d-4262-d953-891280eaefb9"
      },
      "source": [
        "y2_df[y2_df['Country'] == 'Canada']"
      ],
      "execution_count": 26,
      "outputs": [
        {
          "output_type": "execute_result",
          "data": {
            "text/html": [
              "<div>\n",
              "<style scoped>\n",
              "    .dataframe tbody tr th:only-of-type {\n",
              "        vertical-align: middle;\n",
              "    }\n",
              "\n",
              "    .dataframe tbody tr th {\n",
              "        vertical-align: top;\n",
              "    }\n",
              "\n",
              "    .dataframe thead th {\n",
              "        text-align: right;\n",
              "    }\n",
              "</style>\n",
              "<table border=\"1\" class=\"dataframe\">\n",
              "  <thead>\n",
              "    <tr style=\"text-align: right;\">\n",
              "      <th></th>\n",
              "      <th>Country</th>\n",
              "      <th>Region</th>\n",
              "      <th>Happiness Rank</th>\n",
              "      <th>Happiness Score</th>\n",
              "      <th>Lower Confidence Interval</th>\n",
              "      <th>Upper Confidence Interval</th>\n",
              "      <th>Economy (GDP per Capita)</th>\n",
              "      <th>Family</th>\n",
              "      <th>Health (Life Expectancy)</th>\n",
              "      <th>Freedom</th>\n",
              "      <th>Trust (Government Corruption)</th>\n",
              "      <th>Generosity</th>\n",
              "      <th>Dystopia Residual</th>\n",
              "    </tr>\n",
              "  </thead>\n",
              "  <tbody>\n",
              "    <tr>\n",
              "      <th>5</th>\n",
              "      <td>Canada</td>\n",
              "      <td>North America</td>\n",
              "      <td>6</td>\n",
              "      <td>7.404</td>\n",
              "      <td>7.335</td>\n",
              "      <td>7.473</td>\n",
              "      <td>1.44015</td>\n",
              "      <td>1.0961</td>\n",
              "      <td>0.8276</td>\n",
              "      <td>0.5737</td>\n",
              "      <td>0.31329</td>\n",
              "      <td>0.44834</td>\n",
              "      <td>2.70485</td>\n",
              "    </tr>\n",
              "  </tbody>\n",
              "</table>\n",
              "</div>"
            ],
            "text/plain": [
              "  Country         Region  ...  Generosity  Dystopia Residual\n",
              "5  Canada  North America  ...     0.44834            2.70485\n",
              "\n",
              "[1 rows x 13 columns]"
            ]
          },
          "metadata": {
            "tags": []
          },
          "execution_count": 26
        }
      ]
    },
    {
      "cell_type": "code",
      "metadata": {
        "colab": {
          "base_uri": "https://localhost:8080/",
          "height": 168
        },
        "id": "XtfTfVA65C7F",
        "outputId": "9657b6ac-d622-4d0d-f526-596ac8046748"
      },
      "source": [
        "y2_df[y2_df['Country'] == 'United States']"
      ],
      "execution_count": 27,
      "outputs": [
        {
          "output_type": "execute_result",
          "data": {
            "text/html": [
              "<div>\n",
              "<style scoped>\n",
              "    .dataframe tbody tr th:only-of-type {\n",
              "        vertical-align: middle;\n",
              "    }\n",
              "\n",
              "    .dataframe tbody tr th {\n",
              "        vertical-align: top;\n",
              "    }\n",
              "\n",
              "    .dataframe thead th {\n",
              "        text-align: right;\n",
              "    }\n",
              "</style>\n",
              "<table border=\"1\" class=\"dataframe\">\n",
              "  <thead>\n",
              "    <tr style=\"text-align: right;\">\n",
              "      <th></th>\n",
              "      <th>Country</th>\n",
              "      <th>Region</th>\n",
              "      <th>Happiness Rank</th>\n",
              "      <th>Happiness Score</th>\n",
              "      <th>Lower Confidence Interval</th>\n",
              "      <th>Upper Confidence Interval</th>\n",
              "      <th>Economy (GDP per Capita)</th>\n",
              "      <th>Family</th>\n",
              "      <th>Health (Life Expectancy)</th>\n",
              "      <th>Freedom</th>\n",
              "      <th>Trust (Government Corruption)</th>\n",
              "      <th>Generosity</th>\n",
              "      <th>Dystopia Residual</th>\n",
              "    </tr>\n",
              "  </thead>\n",
              "  <tbody>\n",
              "    <tr>\n",
              "      <th>12</th>\n",
              "      <td>United States</td>\n",
              "      <td>North America</td>\n",
              "      <td>13</td>\n",
              "      <td>7.104</td>\n",
              "      <td>7.02</td>\n",
              "      <td>7.188</td>\n",
              "      <td>1.50796</td>\n",
              "      <td>1.04782</td>\n",
              "      <td>0.779</td>\n",
              "      <td>0.48163</td>\n",
              "      <td>0.14868</td>\n",
              "      <td>0.41077</td>\n",
              "      <td>2.72782</td>\n",
              "    </tr>\n",
              "  </tbody>\n",
              "</table>\n",
              "</div>"
            ],
            "text/plain": [
              "          Country         Region  ...  Generosity  Dystopia Residual\n",
              "12  United States  North America  ...     0.41077            2.72782\n",
              "\n",
              "[1 rows x 13 columns]"
            ]
          },
          "metadata": {
            "tags": []
          },
          "execution_count": 27
        }
      ]
    },
    {
      "cell_type": "code",
      "metadata": {
        "colab": {
          "base_uri": "https://localhost:8080/"
        },
        "id": "9uNyDNQD5J5G",
        "outputId": "551451bd-48e7-42a9-b2d6-e70f14763937"
      },
      "source": [
        "y2_df['Region'].unique()"
      ],
      "execution_count": 28,
      "outputs": [
        {
          "output_type": "execute_result",
          "data": {
            "text/plain": [
              "array(['Western Europe', 'North America', 'Australia and New Zealand',\n",
              "       'Middle East and Northern Africa', 'Latin America and Caribbean',\n",
              "       'Southeastern Asia', 'Central and Eastern Europe', 'Eastern Asia',\n",
              "       'Sub-Saharan Africa', 'Southern Asia'], dtype=object)"
            ]
          },
          "metadata": {
            "tags": []
          },
          "execution_count": 28
        }
      ]
    },
    {
      "cell_type": "code",
      "metadata": {
        "colab": {
          "base_uri": "https://localhost:8080/"
        },
        "id": "ZxJ_Y0yurUNM",
        "outputId": "2079cda2-fca4-4b18-c070-94dcd3ee0d28"
      },
      "source": [
        "for region in y2_df['Region'].unique():\n",
        "    print(len(y2_df[y2_df['Region'] == region]), region)"
      ],
      "execution_count": 30,
      "outputs": [
        {
          "output_type": "stream",
          "text": [
            "21 Western Europe\n",
            "2 North America\n",
            "2 Australia and New Zealand\n",
            "19 Middle East and Northern Africa\n",
            "24 Latin America and Caribbean\n",
            "9 Southeastern Asia\n",
            "29 Central and Eastern Europe\n",
            "6 Eastern Asia\n",
            "38 Sub-Saharan Africa\n",
            "7 Southern Asia\n"
          ],
          "name": "stdout"
        }
      ]
    },
    {
      "cell_type": "code",
      "metadata": {
        "id": "U4UxtsZOsP2z"
      },
      "source": [
        "rows_list=[]\n",
        "for region in y2_df['Region'].unique():\n",
        "    happinessRankSum = y2_df.loc[y2_df['Region'] == region]['Happiness Rank'].sum()\n",
        "    numCountriesInRegion = len(y2_df.loc[y2_df['Region'] == region])\n",
        "    avgHappinessScorePerRegion = happinessRankSum/numCountriesInRegion;\n",
        "    dict1 = {'Region': region, 'Happiness Rank Per Region': avgHappinessScorePerRegion, 'numCountriesInRegion': numCountriesInRegion};\n",
        "    rows_list.append(dict1)"
      ],
      "execution_count": 32,
      "outputs": []
    },
    {
      "cell_type": "code",
      "metadata": {
        "colab": {
          "base_uri": "https://localhost:8080/",
          "height": 359
        },
        "id": "sCzH9TzG2-Sw",
        "outputId": "d9d818fe-8297-4fd3-a2e1-9437ffe91a6e"
      },
      "source": [
        "df = pd.DataFrame(rows_list)\n",
        "df.sort_values(['Happiness Rank Per Region'], ascending=True, inplace=True)\n",
        "df"
      ],
      "execution_count": 33,
      "outputs": [
        {
          "output_type": "execute_result",
          "data": {
            "text/html": [
              "<div>\n",
              "<style scoped>\n",
              "    .dataframe tbody tr th:only-of-type {\n",
              "        vertical-align: middle;\n",
              "    }\n",
              "\n",
              "    .dataframe tbody tr th {\n",
              "        vertical-align: top;\n",
              "    }\n",
              "\n",
              "    .dataframe thead th {\n",
              "        text-align: right;\n",
              "    }\n",
              "</style>\n",
              "<table border=\"1\" class=\"dataframe\">\n",
              "  <thead>\n",
              "    <tr style=\"text-align: right;\">\n",
              "      <th></th>\n",
              "      <th>Region</th>\n",
              "      <th>Happiness Rank Per Region</th>\n",
              "      <th>numCountriesInRegion</th>\n",
              "    </tr>\n",
              "  </thead>\n",
              "  <tbody>\n",
              "    <tr>\n",
              "      <th>2</th>\n",
              "      <td>Australia and New Zealand</td>\n",
              "      <td>8.500000</td>\n",
              "      <td>2</td>\n",
              "    </tr>\n",
              "    <tr>\n",
              "      <th>1</th>\n",
              "      <td>North America</td>\n",
              "      <td>9.500000</td>\n",
              "      <td>2</td>\n",
              "    </tr>\n",
              "    <tr>\n",
              "      <th>0</th>\n",
              "      <td>Western Europe</td>\n",
              "      <td>29.190476</td>\n",
              "      <td>21</td>\n",
              "    </tr>\n",
              "    <tr>\n",
              "      <th>4</th>\n",
              "      <td>Latin America and Caribbean</td>\n",
              "      <td>48.333333</td>\n",
              "      <td>24</td>\n",
              "    </tr>\n",
              "    <tr>\n",
              "      <th>7</th>\n",
              "      <td>Eastern Asia</td>\n",
              "      <td>67.166667</td>\n",
              "      <td>6</td>\n",
              "    </tr>\n",
              "    <tr>\n",
              "      <th>3</th>\n",
              "      <td>Middle East and Northern Africa</td>\n",
              "      <td>78.105263</td>\n",
              "      <td>19</td>\n",
              "    </tr>\n",
              "    <tr>\n",
              "      <th>6</th>\n",
              "      <td>Central and Eastern Europe</td>\n",
              "      <td>78.448276</td>\n",
              "      <td>29</td>\n",
              "    </tr>\n",
              "    <tr>\n",
              "      <th>5</th>\n",
              "      <td>Southeastern Asia</td>\n",
              "      <td>80.000000</td>\n",
              "      <td>9</td>\n",
              "    </tr>\n",
              "    <tr>\n",
              "      <th>9</th>\n",
              "      <td>Southern Asia</td>\n",
              "      <td>111.714286</td>\n",
              "      <td>7</td>\n",
              "    </tr>\n",
              "    <tr>\n",
              "      <th>8</th>\n",
              "      <td>Sub-Saharan Africa</td>\n",
              "      <td>129.657895</td>\n",
              "      <td>38</td>\n",
              "    </tr>\n",
              "  </tbody>\n",
              "</table>\n",
              "</div>"
            ],
            "text/plain": [
              "                            Region  ...  numCountriesInRegion\n",
              "2        Australia and New Zealand  ...                     2\n",
              "1                    North America  ...                     2\n",
              "0                   Western Europe  ...                    21\n",
              "4      Latin America and Caribbean  ...                    24\n",
              "7                     Eastern Asia  ...                     6\n",
              "3  Middle East and Northern Africa  ...                    19\n",
              "6       Central and Eastern Europe  ...                    29\n",
              "5                Southeastern Asia  ...                     9\n",
              "9                    Southern Asia  ...                     7\n",
              "8               Sub-Saharan Africa  ...                    38\n",
              "\n",
              "[10 rows x 3 columns]"
            ]
          },
          "metadata": {
            "tags": []
          },
          "execution_count": 33
        }
      ]
    },
    {
      "cell_type": "markdown",
      "metadata": {
        "id": "3oJskHBO3Mqn"
      },
      "source": [
        "Based on the chart above, we see that Australia and New Zealand have the best Happiness Score followed closely by North America. However,  both these regions have only 2 countries. At the other end Sub-Saharan Africa, and Asia have returned the worst Happiness scores . Potential Questions to look at include why this is the case ?"
      ]
    },
    {
      "cell_type": "code",
      "metadata": {
        "colab": {
          "base_uri": "https://localhost:8080/",
          "height": 930
        },
        "id": "8TWKhvH53vya",
        "outputId": "c4c0cda1-6ea9-4d48-fde7-48e83061a367"
      },
      "source": [
        "plt.figure(figsize=(10,10))\n",
        "ax = sns.barplot(df['Region'], df['Happiness Rank Per Region'])\n",
        "ax.set_xticklabels(ax.get_xticklabels(), rotation=40, ha=\"right\")\n"
      ],
      "execution_count": 34,
      "outputs": [
        {
          "output_type": "stream",
          "text": [
            "/usr/local/lib/python3.7/dist-packages/seaborn/_decorators.py:43: FutureWarning: Pass the following variables as keyword args: x, y. From version 0.12, the only valid positional argument will be `data`, and passing other arguments without an explicit keyword will result in an error or misinterpretation.\n",
            "  FutureWarning\n"
          ],
          "name": "stderr"
        },
        {
          "output_type": "execute_result",
          "data": {
            "text/plain": [
              "[Text(0, 0, 'Australia and New Zealand'),\n",
              " Text(0, 0, 'North America'),\n",
              " Text(0, 0, 'Western Europe'),\n",
              " Text(0, 0, 'Latin America and Caribbean'),\n",
              " Text(0, 0, 'Eastern Asia'),\n",
              " Text(0, 0, 'Middle East and Northern Africa'),\n",
              " Text(0, 0, 'Central and Eastern Europe'),\n",
              " Text(0, 0, 'Southeastern Asia'),\n",
              " Text(0, 0, 'Southern Asia'),\n",
              " Text(0, 0, 'Sub-Saharan Africa')]"
            ]
          },
          "metadata": {
            "tags": []
          },
          "execution_count": 34
        },
        {
          "output_type": "display_data",
          "data": {
            "image/png": "[encoded data removed]",
            "text/plain": [
              "<Figure size 720x720 with 1 Axes>"
            ]
          },
          "metadata": {
            "tags": [],
            "needs_background": "light"
          }
        }
      ]
    },
    {
      "cell_type": "markdown",
      "metadata": {
        "id": "x1I6ZZVj3yDH"
      },
      "source": [
        "**Visual Representation of the Happiness Ranks by Region.**\n",
        "\n",
        "Further Questions I may wish to look at include :\n",
        "\n",
        "Which country is the happiest in the world?\n",
        "\n",
        "What are the most important contributing factors to a nation’s happiness?\n",
        "\n",
        "Is overall happiness increasing or decreasing? *italicized text* *italicized text*\n"
      ]
    },
    {
      "cell_type": "code",
      "metadata": {
        "id": "6NlsHC0B4gFl"
      },
      "source": [
        ""
      ],
      "execution_count": null,
      "outputs": []
    }
  ]
}