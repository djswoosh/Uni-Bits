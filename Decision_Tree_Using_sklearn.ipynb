{
  "nbformat": 4,
  "nbformat_minor": 0,
  "metadata": {
    "colab": {
      "name": "Decision Tree Using sklearn.ipynb",
      "provenance": [],
      "authorship_tag": "ABX9TyP1zmpl2WiFdNueVgfdiLBa",
      "include_colab_link": true
    },
    "kernelspec": {
      "name": "python3",
      "display_name": "Python 3"
    }
  },
  "cells": [
    {
      "cell_type": "markdown",
      "metadata": {
        "id": "view-in-github",
        "colab_type": "text"
      },
      "source": [
        "<a href=\"https://colab.research.google.com/github/djswoosh/Uni-Bits/blob/main/Decision_Tree_Using_sklearn.ipynb\" target=\"_parent\"><img src=\"https://colab.research.google.com/assets/colab-badge.svg\" alt=\"Open In Colab\"/></a>"
      ]
    },
    {
      "cell_type": "code",
      "metadata": {
        "id": "0nz17MEHXTbh"
      },
      "source": [
        "#Import the Decision Tree Classifier\n",
        "import numpy as np\n",
        "import pandas as pd\n",
        "from sklearn.tree import DecisionTreeClassifier"
      ],
      "execution_count": 5,
      "outputs": []
    },
    {
      "cell_type": "code",
      "metadata": {
        "id": "dywZKDc8Xpwf"
      },
      "source": [
        "#Import the Dataset (Zoo)\n",
        "\n",
        "dataset = pd.read_csv('zoo.csv',\n",
        "                      names = ['animal_name', 'hair', 'feathers', 'eggs', 'milk', 'airbone', 'aquatic', 'predator','toothed', 'backbone', 'breathes', 'venomous', 'fine', 'legs', 'tail', 'domestic', 'catsize', 'class',])\n",
        "\n",
        "\n"
      ],
      "execution_count": 8,
      "outputs": []
    },
    {
      "cell_type": "code",
      "metadata": {
        "id": "sm2XsZvPYyY_"
      },
      "source": [
        "#Drop Animal Names\n",
        "\n",
        "dataset = dataset.drop('animal_name', axis = 1)\n"
      ],
      "execution_count": 9,
      "outputs": []
    },
    {
      "cell_type": "code",
      "metadata": {
        "colab": {
          "base_uri": "https://localhost:8080/"
        },
        "id": "s_yAP30TYznS",
        "outputId": "3376d863-3d51-4243-b415-77f5512695e9"
      },
      "source": [
        "print(dataset)"
      ],
      "execution_count": 10,
      "outputs": [
        {
          "output_type": "stream",
          "text": [
            "     hair  feathers  eggs  milk  airbone  ...  legs  tail  domestic  catsize  class\n",
            "0       1         0     0     1        0  ...     4     0         0        1      1\n",
            "1       1         0     0     1        0  ...     4     1         0        1      1\n",
            "2       0         0     1     0        0  ...     0     1         0        0      4\n",
            "3       1         0     0     1        0  ...     4     0         0        1      1\n",
            "4       1         0     0     1        0  ...     4     1         0        1      1\n",
            "..    ...       ...   ...   ...      ...  ...   ...   ...       ...      ...    ...\n",
            "96      1         0     0     1        0  ...     2     1         0        1      1\n",
            "97      1         0     1     0        1  ...     6     0         0        0      6\n",
            "98      1         0     0     1        0  ...     4     1         0        1      1\n",
            "99      0         0     1     0        0  ...     0     0         0        0      7\n",
            "100     0         1     1     0        1  ...     2     1         0        0      2\n",
            "\n",
            "[101 rows x 17 columns]\n"
          ],
          "name": "stdout"
        }
      ]
    },
    {
      "cell_type": "code",
      "metadata": {
        "id": "3cEDov8zbVAk"
      },
      "source": [
        "\"\"\"\n",
        "Split the data into a training and a testing set\n",
        "\"\"\"\n",
        "\n",
        "train_features = dataset.iloc[:80,:-1]\n",
        "test_features = dataset.iloc[80:,:-1]\n",
        "train_targets = dataset.iloc[:80,-1]\n",
        "test_targets = dataset.iloc[80:,-1]"
      ],
      "execution_count": 11,
      "outputs": []
    },
    {
      "cell_type": "code",
      "metadata": {
        "id": "9emPlzQXbk0X"
      },
      "source": [
        "\"\"\"\n",
        "Train the model\n",
        "\"\"\"\n",
        "\n",
        "tree = DecisionTreeClassifier(criterion = 'entropy').fit(train_features,train_targets)"
      ],
      "execution_count": 12,
      "outputs": []
    },
    {
      "cell_type": "code",
      "metadata": {
        "id": "rmznRCQUbmU4"
      },
      "source": [
        "\"\"\"\n",
        "Predict the classes of new, unseen data\n",
        "\"\"\"\n",
        "prediction = tree.predict(test_features)"
      ],
      "execution_count": 14,
      "outputs": []
    },
    {
      "cell_type": "code",
      "metadata": {
        "colab": {
          "base_uri": "https://localhost:8080/"
        },
        "id": "HqCSFSHVbs8r",
        "outputId": "7b09da82-6787-40da-e04c-18aac1b926f0"
      },
      "source": [
        "\"\"\"\n",
        "Check the accuracy\n",
        "\"\"\"\n",
        "\n",
        "print(\"The prediction accuracy is: \",tree.score(test_features,test_targets)*100,\"%\")"
      ],
      "execution_count": 15,
      "outputs": [
        {
          "output_type": "stream",
          "text": [
            "The prediction accuracy is:  80.95238095238095 %\n"
          ],
          "name": "stdout"
        }
      ]
    }
  ]
}